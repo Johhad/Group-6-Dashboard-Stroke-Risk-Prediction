{
 "cells": [
  {
   "cell_type": "markdown",
   "id": "9b9a50c7",
   "metadata": {},
   "source": [
    " ## This interactive python is to analyse and test desciprive anlysis before adding the usefula codes in the dashboard"
   ]
  },
  {
   "cell_type": "code",
   "execution_count": 16,
   "id": "66c1d1c0",
   "metadata": {},
   "outputs": [],
   "source": [
    "import pandas as pd\n",
    "import plotly.express as px"
   ]
  },
  {
   "cell_type": "code",
   "execution_count": 17,
   "id": "52862953",
   "metadata": {},
   "outputs": [
    {
     "data": {
      "text/html": [
       "<div>\n",
       "<style scoped>\n",
       "    .dataframe tbody tr th:only-of-type {\n",
       "        vertical-align: middle;\n",
       "    }\n",
       "\n",
       "    .dataframe tbody tr th {\n",
       "        vertical-align: top;\n",
       "    }\n",
       "\n",
       "    .dataframe thead th {\n",
       "        text-align: right;\n",
       "    }\n",
       "</style>\n",
       "<table border=\"1\" class=\"dataframe\">\n",
       "  <thead>\n",
       "    <tr style=\"text-align: right;\">\n",
       "      <th></th>\n",
       "      <th>Unnamed: 0</th>\n",
       "      <th>Sex</th>\n",
       "      <th>Age</th>\n",
       "      <th>Hypertension</th>\n",
       "      <th>Heart Disease</th>\n",
       "      <th>Married</th>\n",
       "      <th>Work Type</th>\n",
       "      <th>Residence Type</th>\n",
       "      <th>Glucose</th>\n",
       "      <th>BMI</th>\n",
       "      <th>Smoking?</th>\n",
       "      <th>Stroke</th>\n",
       "    </tr>\n",
       "  </thead>\n",
       "  <tbody>\n",
       "    <tr>\n",
       "      <th>0</th>\n",
       "      <td>0</td>\n",
       "      <td>Male</td>\n",
       "      <td>67.0</td>\n",
       "      <td>False</td>\n",
       "      <td>True</td>\n",
       "      <td>True</td>\n",
       "      <td>Private</td>\n",
       "      <td>Urban</td>\n",
       "      <td>228.69</td>\n",
       "      <td>36.6</td>\n",
       "      <td>formerly smoked</td>\n",
       "      <td>True</td>\n",
       "    </tr>\n",
       "    <tr>\n",
       "      <th>1</th>\n",
       "      <td>1</td>\n",
       "      <td>Female</td>\n",
       "      <td>61.0</td>\n",
       "      <td>False</td>\n",
       "      <td>False</td>\n",
       "      <td>True</td>\n",
       "      <td>Self-employed</td>\n",
       "      <td>Rural</td>\n",
       "      <td>202.21</td>\n",
       "      <td>0.0</td>\n",
       "      <td>never smoked</td>\n",
       "      <td>True</td>\n",
       "    </tr>\n",
       "    <tr>\n",
       "      <th>2</th>\n",
       "      <td>2</td>\n",
       "      <td>Male</td>\n",
       "      <td>80.0</td>\n",
       "      <td>False</td>\n",
       "      <td>True</td>\n",
       "      <td>True</td>\n",
       "      <td>Private</td>\n",
       "      <td>Rural</td>\n",
       "      <td>105.92</td>\n",
       "      <td>32.5</td>\n",
       "      <td>never smoked</td>\n",
       "      <td>True</td>\n",
       "    </tr>\n",
       "    <tr>\n",
       "      <th>3</th>\n",
       "      <td>3</td>\n",
       "      <td>Female</td>\n",
       "      <td>49.0</td>\n",
       "      <td>False</td>\n",
       "      <td>False</td>\n",
       "      <td>True</td>\n",
       "      <td>Private</td>\n",
       "      <td>Urban</td>\n",
       "      <td>171.23</td>\n",
       "      <td>34.4</td>\n",
       "      <td>smokes</td>\n",
       "      <td>True</td>\n",
       "    </tr>\n",
       "    <tr>\n",
       "      <th>4</th>\n",
       "      <td>4</td>\n",
       "      <td>Female</td>\n",
       "      <td>79.0</td>\n",
       "      <td>True</td>\n",
       "      <td>False</td>\n",
       "      <td>True</td>\n",
       "      <td>Self-employed</td>\n",
       "      <td>Rural</td>\n",
       "      <td>174.12</td>\n",
       "      <td>24.0</td>\n",
       "      <td>never smoked</td>\n",
       "      <td>True</td>\n",
       "    </tr>\n",
       "  </tbody>\n",
       "</table>\n",
       "</div>"
      ],
      "text/plain": [
       "   Unnamed: 0     Sex   Age  Hypertension  Heart Disease  Married  \\\n",
       "0           0    Male  67.0         False           True     True   \n",
       "1           1  Female  61.0         False          False     True   \n",
       "2           2    Male  80.0         False           True     True   \n",
       "3           3  Female  49.0         False          False     True   \n",
       "4           4  Female  79.0          True          False     True   \n",
       "\n",
       "       Work Type Residence Type  Glucose   BMI         Smoking?  Stroke  \n",
       "0        Private          Urban   228.69  36.6  formerly smoked    True  \n",
       "1  Self-employed          Rural   202.21   0.0     never smoked    True  \n",
       "2        Private          Rural   105.92  32.5     never smoked    True  \n",
       "3        Private          Urban   171.23  34.4           smokes    True  \n",
       "4  Self-employed          Rural   174.12  24.0     never smoked    True  "
      ]
     },
     "execution_count": 17,
     "metadata": {},
     "output_type": "execute_result"
    }
   ],
   "source": [
    "#Reading the selected dataset\n",
    "df = pd.read_csv(\"processed_data.csv\")\n",
    "df.head()"
   ]
  },
  {
   "cell_type": "code",
   "execution_count": 18,
   "id": "1e0eb206",
   "metadata": {},
   "outputs": [
    {
     "name": "stdout",
     "output_type": "stream",
     "text": [
      "Total patients: 5110\n",
      "Stroke rate: 4.87279843444227\n",
      "Mean age: 43.226614481409\n",
      "Heart disease rate: 5.401174168297456\n"
     ]
    }
   ],
   "source": [
    "total_patients = len(df)\n",
    "stroke_rate = (df['Stroke'] == 1).mean() * 100\n",
    "mean_age = df['Age'].mean()\n",
    "heart_disease_rate = (df['Heart Disease'] == 1).mean() * 100\n",
    "\n",
    "print(f\"Total patients: {total_patients}\\nStroke rate: {stroke_rate}\\nMean age: {mean_age}\\nHeart disease rate: {heart_disease_rate}\")"
   ]
  },
  {
   "cell_type": "code",
   "execution_count": 19,
   "id": "b9094632",
   "metadata": {},
   "outputs": [
    {
     "data": {
      "application/vnd.plotly.v1+json": {
       "config": {
        "plotlyServerURL": "https://plot.ly"
       },
       "data": [
        {
         "domain": {
          "x": [
           0,
           1
          ],
          "y": [
           0,
           1
          ]
         },
         "hovertemplate": "label=%{label}<br>value=%{value}<extra></extra>",
         "labels": [
          "Female",
          "Male",
          "Other"
         ],
         "legendgroup": "",
         "name": "",
         "showlegend": true,
         "type": "pie",
         "values": {
          "bdata": "sgtDCAEA",
          "dtype": "i2"
         }
        }
       ],
       "layout": {
        "height": 400,
        "legend": {
         "tracegroupgap": 0
        },
        "template": {
         "data": {
          "bar": [
           {
            "error_x": {
             "color": "#2a3f5f"
            },
            "error_y": {
             "color": "#2a3f5f"
            },
            "marker": {
             "line": {
              "color": "#E5ECF6",
              "width": 0.5
             },
             "pattern": {
              "fillmode": "overlay",
              "size": 10,
              "solidity": 0.2
             }
            },
            "type": "bar"
           }
          ],
          "barpolar": [
           {
            "marker": {
             "line": {
              "color": "#E5ECF6",
              "width": 0.5
             },
             "pattern": {
              "fillmode": "overlay",
              "size": 10,
              "solidity": 0.2
             }
            },
            "type": "barpolar"
           }
          ],
          "carpet": [
           {
            "aaxis": {
             "endlinecolor": "#2a3f5f",
             "gridcolor": "white",
             "linecolor": "white",
             "minorgridcolor": "white",
             "startlinecolor": "#2a3f5f"
            },
            "baxis": {
             "endlinecolor": "#2a3f5f",
             "gridcolor": "white",
             "linecolor": "white",
             "minorgridcolor": "white",
             "startlinecolor": "#2a3f5f"
            },
            "type": "carpet"
           }
          ],
          "choropleth": [
           {
            "colorbar": {
             "outlinewidth": 0,
             "ticks": ""
            },
            "type": "choropleth"
           }
          ],
          "contour": [
           {
            "colorbar": {
             "outlinewidth": 0,
             "ticks": ""
            },
            "colorscale": [
             [
              0,
              "#0d0887"
             ],
             [
              0.1111111111111111,
              "#46039f"
             ],
             [
              0.2222222222222222,
              "#7201a8"
             ],
             [
              0.3333333333333333,
              "#9c179e"
             ],
             [
              0.4444444444444444,
              "#bd3786"
             ],
             [
              0.5555555555555556,
              "#d8576b"
             ],
             [
              0.6666666666666666,
              "#ed7953"
             ],
             [
              0.7777777777777778,
              "#fb9f3a"
             ],
             [
              0.8888888888888888,
              "#fdca26"
             ],
             [
              1,
              "#f0f921"
             ]
            ],
            "type": "contour"
           }
          ],
          "contourcarpet": [
           {
            "colorbar": {
             "outlinewidth": 0,
             "ticks": ""
            },
            "type": "contourcarpet"
           }
          ],
          "heatmap": [
           {
            "colorbar": {
             "outlinewidth": 0,
             "ticks": ""
            },
            "colorscale": [
             [
              0,
              "#0d0887"
             ],
             [
              0.1111111111111111,
              "#46039f"
             ],
             [
              0.2222222222222222,
              "#7201a8"
             ],
             [
              0.3333333333333333,
              "#9c179e"
             ],
             [
              0.4444444444444444,
              "#bd3786"
             ],
             [
              0.5555555555555556,
              "#d8576b"
             ],
             [
              0.6666666666666666,
              "#ed7953"
             ],
             [
              0.7777777777777778,
              "#fb9f3a"
             ],
             [
              0.8888888888888888,
              "#fdca26"
             ],
             [
              1,
              "#f0f921"
             ]
            ],
            "type": "heatmap"
           }
          ],
          "histogram": [
           {
            "marker": {
             "pattern": {
              "fillmode": "overlay",
              "size": 10,
              "solidity": 0.2
             }
            },
            "type": "histogram"
           }
          ],
          "histogram2d": [
           {
            "colorbar": {
             "outlinewidth": 0,
             "ticks": ""
            },
            "colorscale": [
             [
              0,
              "#0d0887"
             ],
             [
              0.1111111111111111,
              "#46039f"
             ],
             [
              0.2222222222222222,
              "#7201a8"
             ],
             [
              0.3333333333333333,
              "#9c179e"
             ],
             [
              0.4444444444444444,
              "#bd3786"
             ],
             [
              0.5555555555555556,
              "#d8576b"
             ],
             [
              0.6666666666666666,
              "#ed7953"
             ],
             [
              0.7777777777777778,
              "#fb9f3a"
             ],
             [
              0.8888888888888888,
              "#fdca26"
             ],
             [
              1,
              "#f0f921"
             ]
            ],
            "type": "histogram2d"
           }
          ],
          "histogram2dcontour": [
           {
            "colorbar": {
             "outlinewidth": 0,
             "ticks": ""
            },
            "colorscale": [
             [
              0,
              "#0d0887"
             ],
             [
              0.1111111111111111,
              "#46039f"
             ],
             [
              0.2222222222222222,
              "#7201a8"
             ],
             [
              0.3333333333333333,
              "#9c179e"
             ],
             [
              0.4444444444444444,
              "#bd3786"
             ],
             [
              0.5555555555555556,
              "#d8576b"
             ],
             [
              0.6666666666666666,
              "#ed7953"
             ],
             [
              0.7777777777777778,
              "#fb9f3a"
             ],
             [
              0.8888888888888888,
              "#fdca26"
             ],
             [
              1,
              "#f0f921"
             ]
            ],
            "type": "histogram2dcontour"
           }
          ],
          "mesh3d": [
           {
            "colorbar": {
             "outlinewidth": 0,
             "ticks": ""
            },
            "type": "mesh3d"
           }
          ],
          "parcoords": [
           {
            "line": {
             "colorbar": {
              "outlinewidth": 0,
              "ticks": ""
             }
            },
            "type": "parcoords"
           }
          ],
          "pie": [
           {
            "automargin": true,
            "type": "pie"
           }
          ],
          "scatter": [
           {
            "fillpattern": {
             "fillmode": "overlay",
             "size": 10,
             "solidity": 0.2
            },
            "type": "scatter"
           }
          ],
          "scatter3d": [
           {
            "line": {
             "colorbar": {
              "outlinewidth": 0,
              "ticks": ""
             }
            },
            "marker": {
             "colorbar": {
              "outlinewidth": 0,
              "ticks": ""
             }
            },
            "type": "scatter3d"
           }
          ],
          "scattercarpet": [
           {
            "marker": {
             "colorbar": {
              "outlinewidth": 0,
              "ticks": ""
             }
            },
            "type": "scattercarpet"
           }
          ],
          "scattergeo": [
           {
            "marker": {
             "colorbar": {
              "outlinewidth": 0,
              "ticks": ""
             }
            },
            "type": "scattergeo"
           }
          ],
          "scattergl": [
           {
            "marker": {
             "colorbar": {
              "outlinewidth": 0,
              "ticks": ""
             }
            },
            "type": "scattergl"
           }
          ],
          "scattermap": [
           {
            "marker": {
             "colorbar": {
              "outlinewidth": 0,
              "ticks": ""
             }
            },
            "type": "scattermap"
           }
          ],
          "scattermapbox": [
           {
            "marker": {
             "colorbar": {
              "outlinewidth": 0,
              "ticks": ""
             }
            },
            "type": "scattermapbox"
           }
          ],
          "scatterpolar": [
           {
            "marker": {
             "colorbar": {
              "outlinewidth": 0,
              "ticks": ""
             }
            },
            "type": "scatterpolar"
           }
          ],
          "scatterpolargl": [
           {
            "marker": {
             "colorbar": {
              "outlinewidth": 0,
              "ticks": ""
             }
            },
            "type": "scatterpolargl"
           }
          ],
          "scatterternary": [
           {
            "marker": {
             "colorbar": {
              "outlinewidth": 0,
              "ticks": ""
             }
            },
            "type": "scatterternary"
           }
          ],
          "surface": [
           {
            "colorbar": {
             "outlinewidth": 0,
             "ticks": ""
            },
            "colorscale": [
             [
              0,
              "#0d0887"
             ],
             [
              0.1111111111111111,
              "#46039f"
             ],
             [
              0.2222222222222222,
              "#7201a8"
             ],
             [
              0.3333333333333333,
              "#9c179e"
             ],
             [
              0.4444444444444444,
              "#bd3786"
             ],
             [
              0.5555555555555556,
              "#d8576b"
             ],
             [
              0.6666666666666666,
              "#ed7953"
             ],
             [
              0.7777777777777778,
              "#fb9f3a"
             ],
             [
              0.8888888888888888,
              "#fdca26"
             ],
             [
              1,
              "#f0f921"
             ]
            ],
            "type": "surface"
           }
          ],
          "table": [
           {
            "cells": {
             "fill": {
              "color": "#EBF0F8"
             },
             "line": {
              "color": "white"
             }
            },
            "header": {
             "fill": {
              "color": "#C8D4E3"
             },
             "line": {
              "color": "white"
             }
            },
            "type": "table"
           }
          ]
         },
         "layout": {
          "annotationdefaults": {
           "arrowcolor": "#2a3f5f",
           "arrowhead": 0,
           "arrowwidth": 1
          },
          "autotypenumbers": "strict",
          "coloraxis": {
           "colorbar": {
            "outlinewidth": 0,
            "ticks": ""
           }
          },
          "colorscale": {
           "diverging": [
            [
             0,
             "#8e0152"
            ],
            [
             0.1,
             "#c51b7d"
            ],
            [
             0.2,
             "#de77ae"
            ],
            [
             0.3,
             "#f1b6da"
            ],
            [
             0.4,
             "#fde0ef"
            ],
            [
             0.5,
             "#f7f7f7"
            ],
            [
             0.6,
             "#e6f5d0"
            ],
            [
             0.7,
             "#b8e186"
            ],
            [
             0.8,
             "#7fbc41"
            ],
            [
             0.9,
             "#4d9221"
            ],
            [
             1,
             "#276419"
            ]
           ],
           "sequential": [
            [
             0,
             "#0d0887"
            ],
            [
             0.1111111111111111,
             "#46039f"
            ],
            [
             0.2222222222222222,
             "#7201a8"
            ],
            [
             0.3333333333333333,
             "#9c179e"
            ],
            [
             0.4444444444444444,
             "#bd3786"
            ],
            [
             0.5555555555555556,
             "#d8576b"
            ],
            [
             0.6666666666666666,
             "#ed7953"
            ],
            [
             0.7777777777777778,
             "#fb9f3a"
            ],
            [
             0.8888888888888888,
             "#fdca26"
            ],
            [
             1,
             "#f0f921"
            ]
           ],
           "sequentialminus": [
            [
             0,
             "#0d0887"
            ],
            [
             0.1111111111111111,
             "#46039f"
            ],
            [
             0.2222222222222222,
             "#7201a8"
            ],
            [
             0.3333333333333333,
             "#9c179e"
            ],
            [
             0.4444444444444444,
             "#bd3786"
            ],
            [
             0.5555555555555556,
             "#d8576b"
            ],
            [
             0.6666666666666666,
             "#ed7953"
            ],
            [
             0.7777777777777778,
             "#fb9f3a"
            ],
            [
             0.8888888888888888,
             "#fdca26"
            ],
            [
             1,
             "#f0f921"
            ]
           ]
          },
          "colorway": [
           "#636efa",
           "#EF553B",
           "#00cc96",
           "#ab63fa",
           "#FFA15A",
           "#19d3f3",
           "#FF6692",
           "#B6E880",
           "#FF97FF",
           "#FECB52"
          ],
          "font": {
           "color": "#2a3f5f"
          },
          "geo": {
           "bgcolor": "white",
           "lakecolor": "white",
           "landcolor": "#E5ECF6",
           "showlakes": true,
           "showland": true,
           "subunitcolor": "white"
          },
          "hoverlabel": {
           "align": "left"
          },
          "hovermode": "closest",
          "mapbox": {
           "style": "light"
          },
          "paper_bgcolor": "white",
          "plot_bgcolor": "#E5ECF6",
          "polar": {
           "angularaxis": {
            "gridcolor": "white",
            "linecolor": "white",
            "ticks": ""
           },
           "bgcolor": "#E5ECF6",
           "radialaxis": {
            "gridcolor": "white",
            "linecolor": "white",
            "ticks": ""
           }
          },
          "scene": {
           "xaxis": {
            "backgroundcolor": "#E5ECF6",
            "gridcolor": "white",
            "gridwidth": 2,
            "linecolor": "white",
            "showbackground": true,
            "ticks": "",
            "zerolinecolor": "white"
           },
           "yaxis": {
            "backgroundcolor": "#E5ECF6",
            "gridcolor": "white",
            "gridwidth": 2,
            "linecolor": "white",
            "showbackground": true,
            "ticks": "",
            "zerolinecolor": "white"
           },
           "zaxis": {
            "backgroundcolor": "#E5ECF6",
            "gridcolor": "white",
            "gridwidth": 2,
            "linecolor": "white",
            "showbackground": true,
            "ticks": "",
            "zerolinecolor": "white"
           }
          },
          "shapedefaults": {
           "line": {
            "color": "#2a3f5f"
           }
          },
          "ternary": {
           "aaxis": {
            "gridcolor": "white",
            "linecolor": "white",
            "ticks": ""
           },
           "baxis": {
            "gridcolor": "white",
            "linecolor": "white",
            "ticks": ""
           },
           "bgcolor": "#E5ECF6",
           "caxis": {
            "gridcolor": "white",
            "linecolor": "white",
            "ticks": ""
           }
          },
          "title": {
           "x": 0.05
          },
          "xaxis": {
           "automargin": true,
           "gridcolor": "white",
           "linecolor": "white",
           "ticks": "",
           "title": {
            "standoff": 15
           },
           "zerolinecolor": "white",
           "zerolinewidth": 2
          },
          "yaxis": {
           "automargin": true,
           "gridcolor": "white",
           "linecolor": "white",
           "ticks": "",
           "title": {
            "standoff": 15
           },
           "zerolinecolor": "white",
           "zerolinewidth": 2
          }
         }
        },
        "title": {
         "text": "Gender Distribution"
        }
       }
      }
     },
     "metadata": {},
     "output_type": "display_data"
    }
   ],
   "source": [
    "#Gender analysis\n",
    "#What is the gender distribution in the Stroke prediction dataset?\n",
    "\n",
    "gender_counts = df['Sex'].value_counts(dropna=False)\n",
    "\n",
    "# Create Plotly pie chart\n",
    "fig_gender = px.pie(\n",
    "    values=gender_counts.values,\n",
    "    names=gender_counts.index,\n",
    "    title='Gender Distribution',\n",
    "    color_discrete_map={'Male': '#1f77b4', 'Female': '#ff7f0e'}\n",
    ")\n",
    "\n",
    "# Adjust layout\n",
    "fig_gender.update_layout(height=400)\n",
    "\n",
    "# Display chart\n",
    "fig_gender.show()\n"
   ]
  },
  {
   "cell_type": "markdown",
   "id": "7a4bf888",
   "metadata": {},
   "source": [
    "### Reflection\n",
    "The pie chart that illustrated the distribution of participants: males comprised 58.6%, females accounted for 41.4%, and others represented 0.01%."
   ]
  },
  {
   "cell_type": "code",
   "execution_count": 20,
   "id": "cb15e72b",
   "metadata": {},
   "outputs": [
    {
     "data": {
      "application/vnd.plotly.v1+json": {
       "config": {
        "plotlyServerURL": "https://plot.ly"
       },
       "data": [
        {
         "alignmentgroup": "True",
         "hovertemplate": "Had Stroke=%{x}<br>Age (years)=%{y}<extra></extra>",
         "legendgroup": "True",
         "marker": {
          "color": "#e74c3c"
         },
         "name": "True",
         "notched": false,
         "offsetgroup": "True",
         "orientation": "v",
         "showlegend": true,
         "type": "box",
         "x": [
          true,
          true,
          true,
          true,
          true,
          true,
          true,
          true,
          true,
          true,
          true,
          true,
          true,
          true,
          true,
          true,
          true,
          true,
          true,
          true,
          true,
          true,
          true,
          true,
          true,
          true,
          true,
          true,
          true,
          true,
          true,
          true,
          true,
          true,
          true,
          true,
          true,
          true,
          true,
          true,
          true,
          true,
          true,
          true,
          true,
          true,
          true,
          true,
          true,
          true,
          true,
          true,
          true,
          true,
          true,
          true,
          true,
          true,
          true,
          true,
          true,
          true,
          true,
          true,
          true,
          true,
          true,
          true,
          true,
          true,
          true,
          true,
          true,
          true,
          true,
          true,
          true,
          true,
          true,
          true,
          true,
          true,
          true,
          true,
          true,
          true,
          true,
          true,
          true,
          true,
          true,
          true,
          true,
          true,
          true,
          true,
          true,
          true,
          true,
          true,
          true,
          true,
          true,
          true,
          true,
          true,
          true,
          true,
          true,
          true,
          true,
          true,
          true,
          true,
          true,
          true,
          true,
          true,
          true,
          true,
          true,
          true,
          true,
          true,
          true,
          true,
          true,
          true,
          true,
          true,
          true,
          true,
          true,
          true,
          true,
          true,
          true,
          true,
          true,
          true,
          true,
          true,
          true,
          true,
          true,
          true,
          true,
          true,
          true,
          true,
          true,
          true,
          true,
          true,
          true,
          true,
          true,
          true,
          true,
          true,
          true,
          true,
          true,
          true,
          true,
          true,
          true,
          true,
          true,
          true,
          true,
          true,
          true,
          true,
          true,
          true,
          true,
          true,
          true,
          true,
          true,
          true,
          true,
          true,
          true,
          true,
          true,
          true,
          true,
          true,
          true,
          true,
          true,
          true,
          true,
          true,
          true,
          true,
          true,
          true,
          true,
          true,
          true,
          true,
          true,
          true,
          true,
          true,
          true,
          true,
          true,
          true,
          true,
          true,
          true,
          true,
          true,
          true,
          true,
          true,
          true,
          true,
          true,
          true,
          true,
          true,
          true,
          true,
          true,
          true,
          true,
          true,
          true,
          true,
          true,
          true,
          true,
          true,
          true,
          true,
          true,
          true,
          true,
          true,
          true,
          true,
          true,
          true,
          true
         ],
         "x0": " ",
         "xaxis": "x",
         "y": {
          "bdata": "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",
          "dtype": "f8"
         },
         "y0": " ",
         "yaxis": "y"
        },
        {
         "alignmentgroup": "True",
         "hovertemplate": "Had Stroke=%{x}<br>Age (years)=%{y}<extra></extra>",
         "legendgroup": "False",
         "marker": {
          "color": "#3498db"
         },
         "name": "False",
         "notched": false,
         "offsetgroup": "False",
         "orientation": "v",
         "showlegend": true,
         "type": "box",
         "x": [
          false,
          false,
          false,
          false,
          false,
          false,
          false,
          false,
          false,
          false,
          false,
          false,
          false,
          false,
          false,
          false,
          false,
          false,
          false,
          false,
          false,
          false,
          false,
          false,
          false,
          false,
          false,
          false,
          false,
          false,
          false,
          false,
          false,
          false,
          false,
          false,
          false,
          false,
          false,
          false,
          false,
          false,
          false,
          false,
          false,
          false,
          false,
          false,
          false,
          false,
          false,
          false,
          false,
          false,
          false,
          false,
          false,
          false,
          false,
          false,
          false,
          false,
          false,
          false,
          false,
          false,
          false,
          false,
          false,
          false,
          false,
          false,
          false,
          false,
          false,
          false,
          false,
          false,
          false,
          false,
          false,
          false,
          false,
          false,
          false,
          false,
          false,
          false,
          false,
          false,
          false,
          false,
          false,
          false,
          false,
          false,
          false,
          false,
          false,
          false,
          false,
          false,
          false,
          false,
          false,
          false,
          false,
          false,
          false,
          false,
          false,
          false,
          false,
          false,
          false,
          false,
          false,
          false,
          false,
          false,
          false,
          false,
          false,
          false,
          false,
          false,
          false,
          false,
          false,
          false,
          false,
          false,
          false,
          false,
          false,
          false,
          false,
          false,
          false,
          false,
          false,
          false,
          false,
          false,
          false,
          false,
          false,
          false,
          false,
          false,
          false,
          false,
          false,
          false,
          false,
          false,
          false,
          false,
          false,
          false,
          false,
          false,
          false,
          false,
          false,
          false,
          false,
          false,
          false,
          false,
          false,
          false,
          false,
          false,
          false,
          false,
          false,
          false,
          false,
          false,
          false,
          false,
          false,
          false,
          false,
          false,
          false,
          false,
          false,
          false,
          false,
          false,
          false,
          false,
          false,
          false,
          false,
          false,
          false,
          false,
          false,
          false,
          false,
          false,
          false,
          false,
          false,
          false,
          false,
          false,
          false,
          false,
          false,
          false,
          false,
          false,
          false,
          false,
          false,
          false,
          false,
          false,
          false,
          false,
          false,
          false,
          false,
          false,
          false,
          false,
          false,
          false,
          false,
          false,
          false,
          false,
          false,
          false,
          false,
          false,
          false,
          false,
          false,
          false,
          false,
          false,
          false,
          false,
          false,
          false,
          false,
          false,
          false,
          false,
          false,
          false,
          false,
          false,
          false,
          false,
          false,
          false,
          false,
          false,
          false,
          false,
          false,
          false,
          false,
          false,
          false,
          false,
          false,
          false,
          false,
          false,
          false,
          false,
          false,
          false,
          false,
          false,
          false,
          false,
          false,
          false,
          false,
          false,
          false,
          false,
          false,
          false,
          false,
          false,
          false,
          false,
          false,
          false,
          false,
          false,
          false,
          false,
          false,
          false,
          false,
          false,
          false,
          false,
          false,
          false,
          false,
          false,
          false,
          false,
          false,
          false,
          false,
          false,
          false,
          false,
          false,
          false,
          false,
          false,
          false,
          false,
          false,
          false,
          false,
          false,
          false,
          false,
          false,
          false,
          false,
          false,
          false,
          false,
          false,
          false,
          false,
          false,
          false,
          false,
          false,
          false,
          false,
          false,
          false,
          false,
          false,
          false,
          false,
          false,
          false,
          false,
          false,
          false,
          false,
          false,
          false,
          false,
          false,
          false,
          false,
          false,
          false,
          false,
          false,
          false,
          false,
          false,
          false,
          false,
          false,
          false,
          false,
          false,
          false,
          false,
          false,
          false,
          false,
          false,
          false,
          false,
          false,
          false,
          false,
          false,
          false,
          false,
          false,
          false,
          false,
          false,
          false,
          false,
          false,
          false,
          false,
          false,
          false,
          false,
          false,
          false,
          false,
          false,
          false,
          false,
          false,
          false,
          false,
          false,
          false,
          false,
          false,
          false,
          false,
          false,
          false,
          false,
          false,
          false,
          false,
          false,
          false,
          false,
          false,
          false,
          false,
          false,
          false,
          false,
          false,
          false,
          false,
          false,
          false,
          false,
          false,
          false,
          false,
          false,
          false,
          false,
          false,
          false,
          false,
          false,
          false,
          false,
          false,
          false,
          false,
          false,
          false,
          false,
          false,
          false,
          false,
          false,
          false,
          false,
          false,
          false,
          false,
          false,
          false,
          false,
          false,
          false,
          false,
          false,
          false,
          false,
          false,
          false,
          false,
          false,
          false,
          false,
          false,
          false,
          false,
          false,
          false,
          false,
          false,
          false,
          false,
          false,
          false,
          false,
          false,
          false,
          false,
          false,
          false,
          false,
          false,
          false,
          false,
          false,
          false,
          false,
          false,
          false,
          false,
          false,
          false,
          false,
          false,
          false,
          false,
          false,
          false,
          false,
          false,
          false,
          false,
          false,
          false,
          false,
          false,
          false,
          false,
          false,
          false,
          false,
          false,
          false,
          false,
          false,
          false,
          false,
          false,
          false,
          false,
          false,
          false,
          false,
          false,
          false,
          false,
          false,
          false,
          false,
          false,
          false,
          false,
          false,
          false,
          false,
          false,
          false,
          false,
          false,
          false,
          false,
          false,
          false,
          false,
          false,
          false,
          false,
          false,
          false,
          false,
          false,
          false,
          false,
          false,
          false,
          false,
          false,
          false,
          false,
          false,
          false,
          false,
          false,
          false,
          false,
          false,
          false,
          false,
          false,
          false,
          false,
          false,
          false,
          false,
          false,
          false,
          false,
          false,
          false,
          false,
          false,
          false,
          false,
          false,
          false,
          false,
          false,
          false,
          false,
          false,
          false,
          false,
          false,
          false,
          false,
          false,
          false,
          false,
          false,
          false,
          false,
          false,
          false,
          false,
          false,
          false,
          false,
          false,
          false,
          false,
          false,
          false,
          false,
          false,
          false,
          false,
          false,
          false,
          false,
          false,
          false,
          false,
          false,
          false,
          false,
          false,
          false,
          false,
          false,
          false,
          false,
          false,
          false,
          false,
          false,
          false,
          false,
          false,
          false,
          false,
          false,
          false,
          false,
          false,
          false,
          false,
          false,
          false,
          false,
          false,
          false,
          false,
          false,
          false,
          false,
          false,
          false,
          false,
          false,
          false,
          false,
          false,
          false,
          false,
          false,
          false,
          false,
          false,
          false,
          false,
          false,
          false,
          false,
          false,
          false,
          false,
          false,
          false,
          false,
          false,
          false,
          false,
          false,
          false,
          false,
          false,
          false,
          false,
          false,
          false,
          false,
          false,
          false,
          false,
          false,
          false,
          false,
          false,
          false,
          false,
          false,
          false,
          false,
          false,
          false,
          false,
          false,
          false,
          false,
          false,
          false,
          false,
          false,
          false,
          false,
          false,
          false,
          false,
          false,
          false,
          false,
          false,
          false,
          false,
          false,
          false,
          false,
          false,
          false,
          false,
          false,
          false,
          false,
          false,
          false,
          false,
          false,
          false,
          false,
          false,
          false,
          false,
          false,
          false,
          false,
          false,
          false,
          false,
          false,
          false,
          false,
          false,
          false,
          false,
          false,
          false,
          false,
          false,
          false,
          false,
          false,
          false,
          false,
          false,
          false,
          false,
          false,
          false,
          false,
          false,
          false,
          false,
          false,
          false,
          false,
          false,
          false,
          false,
          false,
          false,
          false,
          false,
          false,
          false,
          false,
          false,
          false,
          false,
          false,
          false,
          false,
          false,
          false,
          false,
          false,
          false,
          false,
          false,
          false,
          false,
          false,
          false,
          false,
          false,
          false,
          false,
          false,
          false,
          false,
          false,
          false,
          false,
          false,
          false,
          false,
          false,
          false,
          false,
          false,
          false,
          false,
          false,
          false,
          false,
          false,
          false,
          false,
          false,
          false,
          false,
          false,
          false,
          false,
          false,
          false,
          false,
          false,
          false,
          false,
          false,
          false,
          false,
          false,
          false,
          false,
          false,
          false,
          false,
          false,
          false,
          false,
          false,
          false,
          false,
          false,
          false,
          false,
          false,
          false,
          false,
          false,
          false,
          false,
          false,
          false,
          false,
          false,
          false,
          false,
          false,
          false,
          false,
          false,
          false,
          false,
          false,
          false,
          false,
          false,
          false,
          false,
          false,
          false,
          false,
          false,
          false,
          false,
          false,
          false,
          false,
          false,
          false,
          false,
          false,
          false,
          false,
          false,
          false,
          false,
          false,
          false,
          false,
          false,
          false,
          false,
          false,
          false,
          false,
          false,
          false,
          false,
          false,
          false,
          false,
          false,
          false,
          false,
          false,
          false,
          false,
          false,
          false,
          false,
          false,
          false,
          false,
          false,
          false,
          false,
          false,
          false,
          false,
          false,
          false,
          false,
          false,
          false,
          false,
          false,
          false,
          false,
          false,
          false,
          false,
          false,
          false,
          false,
          false,
          false,
          false,
          false,
          false,
          false,
          false,
          false,
          false,
          false,
          false,
          false,
          false,
          false,
          false,
          false,
          false,
          false,
          false,
          false,
          false,
          false,
          false,
          false,
          false,
          false,
          false,
          false,
          false,
          false,
          false,
          false,
          false,
          false,
          false,
          false,
          false,
          false,
          false,
          false,
          false,
          false,
          false,
          false,
          false,
          false,
          false,
          false,
          false,
          false,
          false,
          false,
          false,
          false,
          false,
          false,
          false,
          false,
          false,
          false,
          false,
          false,
          false,
          false,
          false,
          false,
          false,
          false,
          false,
          false,
          false,
          false,
          false,
          false,
          false,
          false,
          false,
          false,
          false,
          false,
          false,
          false,
          false,
          false,
          false,
          false,
          false,
          false,
          false,
          false,
          false,
          false,
          false,
          false,
          false,
          false,
          false,
          false,
          false,
          false,
          false,
          false,
          false,
          false,
          false,
          false,
          false,
          false,
          false,
          false,
          false,
          false,
          false,
          false,
          false,
          false,
          false,
          false,
          false,
          false,
          false,
          false,
          false,
          false,
          false,
          false,
          false,
          false,
          false,
          false,
          false,
          false,
          false,
          false,
          false,
          false,
          false,
          false,
          false,
          false,
          false,
          false,
          false,
          false,
          false,
          false,
          false,
          false,
          false,
          false,
          false,
          false,
          false,
          false,
          false,
          false,
          false,
          false,
          false,
          false,
          false,
          false,
          false,
          false,
          false,
          false,
          false,
          false,
          false,
          false,
          false,
          false,
          false,
          false,
          false,
          false,
          false,
          false,
          false,
          false,
          false,
          false,
          false,
          false,
          false,
          false,
          false,
          false,
          false,
          false,
          false,
          false,
          false,
          false,
          false,
          false,
          false,
          false,
          false,
          false,
          false,
          false,
          false,
          false,
          false,
          false,
          false,
          false,
          false,
          false,
          false,
          false,
          false,
          false,
          false,
          false,
          false,
          false,
          false,
          false,
          false,
          false,
          false,
          false,
          false,
          false,
          false,
          false,
          false,
          false,
          false,
          false,
          false,
          false,
          false,
          false,
          false,
          false,
          false,
          false,
          false,
          false,
          false,
          false,
          false,
          false,
          false,
          false,
          false,
          false,
          false,
          false,
          false,
          false,
          false,
          false,
          false,
          false,
          false,
          false,
          false,
          false,
          false,
          false,
          false,
          false,
          false,
          false,
          false,
          false,
          false,
          false,
          false,
          false,
          false,
          false,
          false,
          false,
          false,
          false,
          false,
          false,
          false,
          false,
          false,
          false,
          false,
          false,
          false,
          false,
          false,
          false,
          false,
          false,
          false,
          false,
          false,
          false,
          false,
          false,
          false,
          false,
          false,
          false,
          false,
          false,
          false,
          false,
          false,
          false,
          false,
          false,
          false,
          false,
          false,
          false,
          false,
          false,
          false,
          false,
          false,
          false,
          false,
          false,
          false,
          false,
          false,
          false,
          false,
          false,
          false,
          false,
          false,
          false,
          false,
          false,
          false,
          false,
          false,
          false,
          false,
          false,
          false,
          false,
          false,
          false,
          false,
          false,
          false,
          false,
          false,
          false,
          false,
          false,
          false,
          false,
          false,
          false,
          false,
          false,
          false,
          false,
          false,
          false,
          false,
          false,
          false,
          false,
          false,
          false,
          false,
          false,
          false,
          false,
          false,
          false,
          false,
          false,
          false,
          false,
          false,
          false,
          false,
          false,
          false,
          false,
          false,
          false,
          false,
          false,
          false,
          false,
          false,
          false,
          false,
          false,
          false,
          false,
          false,
          false,
          false,
          false,
          false,
          false,
          false,
          false,
          false,
          false,
          false,
          false,
          false,
          false,
          false,
          false,
          false,
          false,
          false,
          false,
          false,
          false,
          false,
          false,
          false,
          false,
          false,
          false,
          false,
          false,
          false,
          false,
          false,
          false,
          false,
          false,
          false,
          false,
          false,
          false,
          false,
          false,
          false,
          false,
          false,
          false,
          false,
          false,
          false,
          false,
          false,
          false,
          false,
          false,
          false,
          false,
          false,
          false,
          false,
          false,
          false,
          false,
          false,
          false,
          false,
          false,
          false,
          false,
          false,
          false,
          false,
          false,
          false,
          false,
          false,
          false,
          false,
          false,
          false,
          false,
          false,
          false,
          false,
          false,
          false,
          false,
          false,
          false,
          false,
          false,
          false,
          false,
          false,
          false,
          false,
          false,
          false,
          false,
          false,
          false,
          false,
          false,
          false,
          false,
          false,
          false,
          false,
          false,
          false,
          false,
          false,
          false,
          false,
          false,
          false,
          false,
          false,
          false,
          false,
          false,
          false,
          false,
          false,
          false,
          false,
          false,
          false,
          false,
          false,
          false,
          false,
          false,
          false,
          false,
          false,
          false,
          false,
          false,
          false,
          false,
          false,
          false,
          false,
          false,
          false,
          false,
          false,
          false,
          false,
          false,
          false,
          false,
          false,
          false,
          false,
          false,
          false,
          false,
          false,
          false,
          false,
          false,
          false,
          false,
          false,
          false,
          false,
          false,
          false,
          false,
          false,
          false,
          false,
          false,
          false,
          false,
          false,
          false,
          false,
          false,
          false,
          false,
          false,
          false,
          false,
          false,
          false,
          false,
          false,
          false,
          false,
          false,
          false,
          false,
          false,
          false,
          false,
          false,
          false,
          false,
          false,
          false,
          false,
          false,
          false,
          false,
          false,
          false,
          false,
          false,
          false,
          false,
          false,
          false,
          false,
          false,
          false,
          false,
          false,
          false,
          false,
          false,
          false,
          false,
          false,
          false,
          false,
          false,
          false,
          false,
          false,
          false,
          false,
          false,
          false,
          false,
          false,
          false,
          false,
          false,
          false,
          false,
          false,
          false,
          false,
          false,
          false,
          false,
          false,
          false,
          false,
          false,
          false,
          false,
          false,
          false,
          false,
          false,
          false,
          false,
          false,
          false,
          false,
          false,
          false,
          false,
          false,
          false,
          false,
          false,
          false,
          false,
          false,
          false,
          false,
          false,
          false,
          false,
          false,
          false,
          false,
          false,
          false,
          false,
          false,
          false,
          false,
          false,
          false,
          false,
          false,
          false,
          false,
          false,
          false,
          false,
          false,
          false,
          false,
          false,
          false,
          false,
          false,
          false,
          false,
          false,
          false,
          false,
          false,
          false,
          false,
          false,
          false,
          false,
          false,
          false,
          false,
          false,
          false,
          false,
          false,
          false,
          false,
          false,
          false,
          false,
          false,
          false,
          false,
          false,
          false,
          false,
          false,
          false,
          false,
          false,
          false,
          false,
          false,
          false,
          false,
          false,
          false,
          false,
          false,
          false,
          false,
          false,
          false,
          false,
          false,
          false,
          false,
          false,
          false,
          false,
          false,
          false,
          false,
          false,
          false,
          false,
          false,
          false,
          false,
          false,
          false,
          false,
          false,
          false,
          false,
          false,
          false,
          false,
          false,
          false,
          false,
          false,
          false,
          false,
          false,
          false,
          false,
          false,
          false,
          false,
          false,
          false,
          false,
          false,
          false,
          false,
          false,
          false,
          false,
          false,
          false,
          false,
          false,
          false,
          false,
          false,
          false,
          false,
          false,
          false,
          false,
          false,
          false,
          false,
          false,
          false,
          false,
          false,
          false,
          false,
          false,
          false,
          false,
          false,
          false,
          false,
          false,
          false,
          false,
          false,
          false,
          false,
          false,
          false,
          false,
          false,
          false,
          false,
          false,
          false,
          false,
          false,
          false,
          false,
          false,
          false,
          false,
          false,
          false,
          false,
          false,
          false,
          false,
          false,
          false,
          false,
          false,
          false,
          false,
          false,
          false,
          false,
          false,
          false,
          false,
          false,
          false,
          false,
          false,
          false,
          false,
          false,
          false,
          false,
          false,
          false,
          false,
          false,
          false,
          false,
          false,
          false,
          false,
          false,
          false,
          false,
          false,
          false,
          false,
          false,
          false,
          false,
          false,
          false,
          false,
          false,
          false,
          false,
          false,
          false,
          false,
          false,
          false,
          false,
          false,
          false,
          false,
          false,
          false,
          false,
          false,
          false,
          false,
          false,
          false,
          false,
          false,
          false,
          false,
          false,
          false,
          false,
          false,
          false,
          false,
          false,
          false,
          false,
          false,
          false,
          false,
          false,
          false,
          false,
          false,
          false,
          false,
          false,
          false,
          false,
          false,
          false,
          false,
          false,
          false,
          false,
          false,
          false,
          false,
          false,
          false,
          false,
          false,
          false,
          false,
          false,
          false,
          false,
          false,
          false,
          false,
          false,
          false,
          false,
          false,
          false,
          false,
          false,
          false,
          false,
          false,
          false,
          false,
          false,
          false,
          false,
          false,
          false,
          false,
          false,
          false,
          false,
          false,
          false,
          false,
          false,
          false,
          false,
          false,
          false,
          false,
          false,
          false,
          false,
          false,
          false,
          false,
          false,
          false,
          false,
          false,
          false,
          false,
          false,
          false,
          false,
          false,
          false,
          false,
          false,
          false,
          false,
          false,
          false,
          false,
          false,
          false,
          false,
          false,
          false,
          false,
          false,
          false,
          false,
          false,
          false,
          false,
          false,
          false,
          false,
          false,
          false,
          false,
          false,
          false,
          false,
          false,
          false,
          false,
          false,
          false,
          false,
          false,
          false,
          false,
          false,
          false,
          false,
          false,
          false,
          false,
          false,
          false,
          false,
          false,
          false,
          false,
          false,
          false,
          false,
          false,
          false,
          false,
          false,
          false,
          false,
          false,
          false,
          false,
          false,
          false,
          false,
          false,
          false,
          false,
          false,
          false,
          false,
          false,
          false,
          false,
          false,
          false,
          false,
          false,
          false,
          false,
          false,
          false,
          false,
          false,
          false,
          false,
          false,
          false,
          false,
          false,
          false,
          false,
          false,
          false,
          false,
          false,
          false,
          false,
          false,
          false,
          false,
          false,
          false,
          false,
          false,
          false,
          false,
          false,
          false,
          false,
          false,
          false,
          false,
          false,
          false,
          false,
          false,
          false,
          false,
          false,
          false,
          false,
          false,
          false,
          false,
          false,
          false,
          false,
          false,
          false,
          false,
          false,
          false,
          false,
          false,
          false,
          false,
          false,
          false,
          false,
          false,
          false,
          false,
          false,
          false,
          false,
          false,
          false,
          false,
          false,
          false,
          false,
          false,
          false,
          false,
          false,
          false,
          false,
          false,
          false,
          false,
          false,
          false,
          false,
          false,
          false,
          false,
          false,
          false,
          false,
          false,
          false,
          false,
          false,
          false,
          false,
          false,
          false,
          false,
          false,
          false,
          false,
          false,
          false,
          false,
          false,
          false,
          false,
          false,
          false,
          false,
          false,
          false,
          false,
          false,
          false,
          false,
          false,
          false,
          false,
          false,
          false,
          false,
          false,
          false,
          false,
          false,
          false,
          false,
          false,
          false,
          false,
          false,
          false,
          false,
          false,
          false,
          false,
          false,
          false,
          false,
          false,
          false,
          false,
          false,
          false,
          false,
          false,
          false,
          false,
          false,
          false,
          false,
          false,
          false,
          false,
          false,
          false,
          false,
          false,
          false,
          false,
          false,
          false,
          false,
          false,
          false,
          false,
          false,
          false,
          false,
          false,
          false,
          false,
          false,
          false,
          false,
          false,
          false,
          false,
          false,
          false,
          false,
          false,
          false,
          false,
          false,
          false,
          false,
          false,
          false,
          false,
          false,
          false,
          false,
          false,
          false,
          false,
          false,
          false,
          false,
          false,
          false,
          false,
          false,
          false,
          false,
          false,
          false,
          false,
          false,
          false,
          false,
          false,
          false,
          false,
          false,
          false,
          false,
          false,
          false,
          false,
          false,
          false,
          false,
          false,
          false,
          false,
          false,
          false,
          false,
          false,
          false,
          false,
          false,
          false,
          false,
          false,
          false,
          false,
          false,
          false,
          false,
          false,
          false,
          false,
          false,
          false,
          false,
          false,
          false,
          false,
          false,
          false,
          false,
          false,
          false,
          false,
          false,
          false,
          false,
          false,
          false,
          false,
          false,
          false,
          false,
          false,
          false,
          false,
          false,
          false,
          false,
          false,
          false,
          false,
          false,
          false,
          false,
          false,
          false,
          false,
          false,
          false,
          false,
          false,
          false,
          false,
          false,
          false,
          false,
          false,
          false,
          false,
          false,
          false,
          false,
          false,
          false,
          false,
          false,
          false,
          false,
          false,
          false,
          false,
          false,
          false,
          false,
          false,
          false,
          false,
          false,
          false,
          false,
          false,
          false,
          false,
          false,
          false,
          false,
          false,
          false,
          false,
          false,
          false,
          false,
          false,
          false,
          false,
          false,
          false,
          false,
          false,
          false,
          false,
          false,
          false,
          false,
          false,
          false,
          false,
          false,
          false,
          false,
          false,
          false,
          false,
          false,
          false,
          false,
          false,
          false,
          false,
          false,
          false,
          false,
          false,
          false,
          false,
          false,
          false,
          false,
          false,
          false,
          false,
          false,
          false,
          false,
          false,
          false,
          false,
          false,
          false,
          false,
          false,
          false,
          false,
          false,
          false,
          false,
          false,
          false,
          false,
          false,
          false,
          false,
          false,
          false,
          false,
          false,
          false,
          false,
          false,
          false,
          false,
          false,
          false,
          false,
          false,
          false,
          false,
          false,
          false,
          false,
          false,
          false,
          false,
          false,
          false,
          false,
          false,
          false,
          false,
          false,
          false,
          false,
          false,
          false,
          false,
          false,
          false,
          false,
          false,
          false,
          false,
          false,
          false,
          false,
          false,
          false,
          false,
          false,
          false,
          false,
          false,
          false,
          false,
          false,
          false,
          false,
          false,
          false,
          false,
          false,
          false,
          false,
          false,
          false,
          false,
          false,
          false,
          false,
          false,
          false,
          false,
          false,
          false,
          false,
          false,
          false,
          false,
          false,
          false,
          false,
          false,
          false,
          false,
          false,
          false,
          false,
          false,
          false,
          false,
          false,
          false,
          false,
          false,
          false,
          false,
          false,
          false,
          false,
          false,
          false,
          false,
          false,
          false,
          false,
          false,
          false,
          false,
          false,
          false,
          false,
          false,
          false,
          false,
          false,
          false,
          false,
          false,
          false,
          false,
          false,
          false,
          false,
          false,
          false,
          false,
          false,
          false,
          false,
          false,
          false,
          false,
          false,
          false,
          false,
          false,
          false,
          false,
          false,
          false,
          false,
          false,
          false,
          false,
          false,
          false,
          false,
          false,
          false,
          false,
          false,
          false,
          false,
          false,
          false,
          false,
          false,
          false,
          false,
          false,
          false,
          false,
          false,
          false,
          false,
          false,
          false,
          false,
          false,
          false,
          false,
          false,
          false,
          false,
          false,
          false,
          false,
          false,
          false,
          false,
          false,
          false,
          false,
          false,
          false,
          false,
          false,
          false,
          false,
          false,
          false,
          false,
          false,
          false,
          false,
          false,
          false,
          false,
          false,
          false,
          false,
          false,
          false,
          false,
          false,
          false,
          false,
          false,
          false,
          false,
          false,
          false,
          false,
          false,
          false,
          false,
          false,
          false,
          false,
          false,
          false,
          false,
          false,
          false,
          false,
          false,
          false,
          false,
          false,
          false,
          false,
          false,
          false,
          false,
          false,
          false,
          false,
          false,
          false,
          false,
          false,
          false,
          false,
          false,
          false,
          false,
          false,
          false,
          false,
          false,
          false,
          false,
          false,
          false,
          false,
          false,
          false,
          false,
          false,
          false,
          false,
          false,
          false,
          false,
          false,
          false,
          false,
          false,
          false,
          false,
          false,
          false,
          false,
          false,
          false,
          false,
          false,
          false,
          false,
          false,
          false,
          false,
          false,
          false,
          false,
          false,
          false,
          false,
          false,
          false,
          false,
          false,
          false,
          false,
          false,
          false,
          false,
          false,
          false,
          false,
          false,
          false,
          false,
          false,
          false,
          false,
          false,
          false,
          false,
          false,
          false,
          false,
          false,
          false,
          false,
          false,
          false,
          false,
          false,
          false,
          false,
          false,
          false,
          false,
          false,
          false,
          false,
          false,
          false,
          false,
          false,
          false,
          false,
          false,
          false,
          false,
          false,
          false,
          false,
          false,
          false,
          false,
          false,
          false,
          false,
          false,
          false,
          false,
          false,
          false,
          false,
          false,
          false,
          false,
          false,
          false,
          false,
          false,
          false,
          false,
          false,
          false,
          false,
          false,
          false,
          false,
          false,
          false,
          false,
          false,
          false,
          false,
          false,
          false,
          false,
          false,
          false,
          false,
          false,
          false,
          false,
          false,
          false,
          false,
          false,
          false,
          false,
          false,
          false,
          false,
          false,
          false,
          false,
          false,
          false,
          false,
          false,
          false,
          false,
          false,
          false,
          false,
          false,
          false,
          false,
          false,
          false,
          false,
          false,
          false,
          false,
          false,
          false,
          false,
          false,
          false,
          false,
          false,
          false,
          false,
          false,
          false,
          false,
          false,
          false,
          false,
          false,
          false,
          false,
          false,
          false,
          false,
          false,
          false,
          false,
          false,
          false,
          false,
          false,
          false,
          false,
          false,
          false,
          false,
          false,
          false,
          false,
          false,
          false,
          false,
          false,
          false,
          false,
          false,
          false,
          false,
          false,
          false,
          false,
          false,
          false,
          false,
          false,
          false,
          false,
          false,
          false,
          false,
          false,
          false,
          false,
          false,
          false,
          false,
          false,
          false,
          false,
          false,
          false,
          false,
          false,
          false,
          false,
          false,
          false,
          false,
          false,
          false,
          false,
          false,
          false,
          false,
          false,
          false,
          false,
          false,
          false,
          false,
          false,
          false,
          false,
          false,
          false,
          false,
          false,
          false,
          false,
          false,
          false,
          false,
          false,
          false,
          false,
          false,
          false,
          false,
          false,
          false,
          false,
          false,
          false,
          false,
          false,
          false,
          false,
          false,
          false,
          false,
          false,
          false,
          false,
          false,
          false,
          false,
          false,
          false,
          false,
          false,
          false,
          false,
          false,
          false,
          false,
          false,
          false,
          false,
          false,
          false,
          false,
          false,
          false,
          false,
          false,
          false,
          false,
          false,
          false,
          false,
          false,
          false,
          false,
          false,
          false,
          false,
          false,
          false,
          false,
          false,
          false,
          false,
          false,
          false,
          false,
          false,
          false,
          false,
          false,
          false,
          false,
          false,
          false,
          false,
          false,
          false,
          false,
          false,
          false,
          false,
          false,
          false,
          false,
          false,
          false,
          false,
          false,
          false,
          false,
          false,
          false,
          false,
          false,
          false,
          false,
          false,
          false,
          false,
          false,
          false,
          false,
          false,
          false,
          false,
          false,
          false,
          false,
          false,
          false,
          false,
          false,
          false,
          false,
          false,
          false,
          false,
          false,
          false,
          false,
          false,
          false,
          false,
          false,
          false,
          false,
          false,
          false,
          false,
          false,
          false,
          false,
          false,
          false,
          false,
          false,
          false,
          false,
          false,
          false,
          false,
          false,
          false,
          false,
          false,
          false,
          false,
          false,
          false,
          false,
          false,
          false,
          false,
          false,
          false,
          false,
          false,
          false,
          false,
          false,
          false,
          false,
          false,
          false,
          false,
          false,
          false,
          false,
          false,
          false,
          false,
          false,
          false,
          false,
          false,
          false,
          false,
          false,
          false,
          false,
          false,
          false,
          false,
          false,
          false,
          false,
          false,
          false,
          false,
          false,
          false,
          false,
          false,
          false,
          false,
          false,
          false,
          false,
          false,
          false,
          false,
          false,
          false,
          false,
          false,
          false,
          false,
          false,
          false,
          false,
          false,
          false,
          false,
          false,
          false,
          false,
          false,
          false,
          false,
          false,
          false,
          false,
          false,
          false,
          false,
          false,
          false,
          false,
          false,
          false,
          false,
          false,
          false,
          false,
          false,
          false,
          false,
          false,
          false,
          false,
          false,
          false,
          false,
          false,
          false,
          false,
          false,
          false,
          false,
          false,
          false,
          false,
          false,
          false,
          false,
          false,
          false,
          false,
          false,
          false,
          false,
          false,
          false,
          false,
          false,
          false,
          false,
          false,
          false,
          false,
          false,
          false,
          false,
          false,
          false,
          false,
          false,
          false,
          false,
          false,
          false,
          false,
          false,
          false,
          false,
          false,
          false,
          false,
          false,
          false,
          false,
          false,
          false,
          false,
          false,
          false,
          false,
          false,
          false,
          false,
          false,
          false,
          false,
          false,
          false,
          false,
          false,
          false,
          false,
          false,
          false,
          false,
          false,
          false,
          false,
          false,
          false,
          false,
          false,
          false,
          false,
          false,
          false,
          false,
          false,
          false,
          false,
          false,
          false,
          false,
          false,
          false,
          false,
          false,
          false,
          false,
          false,
          false,
          false,
          false,
          false,
          false,
          false,
          false,
          false,
          false,
          false,
          false,
          false,
          false,
          false,
          false,
          false,
          false,
          false,
          false,
          false,
          false,
          false,
          false,
          false,
          false,
          false,
          false,
          false,
          false,
          false,
          false,
          false,
          false,
          false,
          false,
          false,
          false,
          false,
          false,
          false,
          false,
          false,
          false,
          false,
          false,
          false,
          false,
          false,
          false,
          false,
          false,
          false,
          false,
          false,
          false,
          false,
          false,
          false,
          false,
          false,
          false,
          false,
          false,
          false,
          false,
          false,
          false,
          false,
          false,
          false,
          false,
          false,
          false,
          false,
          false,
          false,
          false,
          false,
          false,
          false,
          false,
          false,
          false,
          false,
          false,
          false,
          false,
          false,
          false,
          false,
          false,
          false,
          false,
          false,
          false,
          false,
          false,
          false,
          false,
          false,
          false,
          false,
          false,
          false,
          false,
          false,
          false,
          false,
          false,
          false,
          false,
          false,
          false,
          false,
          false,
          false,
          false,
          false,
          false,
          false,
          false,
          false,
          false,
          false,
          false,
          false,
          false,
          false,
          false,
          false,
          false,
          false,
          false,
          false,
          false,
          false,
          false,
          false,
          false,
          false,
          false,
          false,
          false,
          false,
          false,
          false,
          false,
          false,
          false,
          false,
          false,
          false,
          false,
          false,
          false,
          false,
          false,
          false,
          false,
          false,
          false,
          false,
          false,
          false,
          false,
          false,
          false,
          false,
          false,
          false,
          false,
          false,
          false,
          false,
          false,
          false,
          false,
          false,
          false,
          false,
          false,
          false,
          false,
          false,
          false,
          false,
          false,
          false,
          false,
          false,
          false,
          false,
          false,
          false,
          false,
          false,
          false,
          false,
          false,
          false,
          false,
          false,
          false,
          false,
          false,
          false,
          false,
          false,
          false,
          false,
          false,
          false,
          false,
          false,
          false,
          false,
          false,
          false,
          false,
          false,
          false,
          false,
          false,
          false,
          false,
          false,
          false,
          false,
          false,
          false,
          false,
          false,
          false,
          false,
          false,
          false,
          false,
          false,
          false,
          false,
          false,
          false,
          false,
          false,
          false,
          false,
          false,
          false,
          false,
          false,
          false,
          false,
          false,
          false,
          false,
          false,
          false,
          false,
          false,
          false,
          false,
          false,
          false,
          false,
          false,
          false,
          false,
          false,
          false,
          false,
          false,
          false,
          false,
          false,
          false,
          false,
          false,
          false,
          false,
          false,
          false,
          false,
          false,
          false,
          false,
          false,
          false,
          false,
          false,
          false,
          false,
          false,
          false,
          false,
          false,
          false,
          false,
          false,
          false,
          false,
          false,
          false,
          false,
          false,
          false,
          false,
          false,
          false,
          false,
          false,
          false,
          false,
          false,
          false,
          false,
          false,
          false,
          false,
          false,
          false,
          false,
          false,
          false,
          false,
          false,
          false,
          false,
          false,
          false,
          false,
          false,
          false,
          false,
          false,
          false,
          false,
          false,
          false,
          false,
          false,
          false,
          false,
          false,
          false,
          false,
          false,
          false,
          false,
          false,
          false,
          false,
          false,
          false,
          false,
          false,
          false,
          false,
          false,
          false,
          false,
          false,
          false,
          false,
          false,
          false,
          false,
          false,
          false,
          false,
          false,
          false,
          false,
          false,
          false,
          false,
          false,
          false,
          false,
          false,
          false,
          false,
          false,
          false,
          false,
          false,
          false,
          false,
          false,
          false,
          false,
          false,
          false,
          false,
          false,
          false,
          false,
          false,
          false,
          false,
          false,
          false,
          false,
          false,
          false,
          false,
          false,
          false,
          false,
          false,
          false,
          false,
          false,
          false,
          false,
          false,
          false,
          false,
          false,
          false,
          false,
          false,
          false,
          false,
          false,
          false,
          false,
          false,
          false,
          false,
          false,
          false,
          false,
          false,
          false,
          false,
          false,
          false,
          false,
          false,
          false,
          false,
          false,
          false,
          false,
          false,
          false,
          false,
          false,
          false,
          false,
          false,
          false,
          false,
          false,
          false,
          false,
          false,
          false,
          false,
          false,
          false,
          false,
          false,
          false,
          false,
          false,
          false,
          false,
          false,
          false,
          false,
          false,
          false,
          false,
          false,
          false,
          false,
          false,
          false,
          false,
          false,
          false,
          false,
          false,
          false,
          false,
          false,
          false,
          false,
          false,
          false,
          false,
          false,
          false,
          false,
          false,
          false,
          false,
          false,
          false,
          false,
          false,
          false,
          false,
          false,
          false,
          false,
          false,
          false,
          false,
          false,
          false,
          false,
          false,
          false,
          false,
          false,
          false,
          false,
          false,
          false,
          false,
          false,
          false,
          false,
          false,
          false,
          false,
          false,
          false,
          false,
          false,
          false,
          false,
          false,
          false,
          false,
          false,
          false,
          false,
          false,
          false,
          false,
          false,
          false,
          false,
          false,
          false,
          false,
          false,
          false,
          false,
          false,
          false,
          false,
          false,
          false,
          false,
          false,
          false,
          false,
          false,
          false,
          false,
          false,
          false,
          false,
          false,
          false,
          false,
          false,
          false,
          false,
          false,
          false,
          false,
          false,
          false,
          false,
          false,
          false,
          false,
          false,
          false,
          false,
          false,
          false,
          false,
          false,
          false,
          false,
          false,
          false,
          false,
          false,
          false,
          false,
          false,
          false,
          false,
          false,
          false,
          false,
          false,
          false,
          false,
          false,
          false,
          false,
          false,
          false,
          false,
          false,
          false,
          false,
          false,
          false,
          false,
          false,
          false,
          false,
          false,
          false,
          false,
          false,
          false,
          false,
          false,
          false,
          false,
          false,
          false,
          false,
          false,
          false,
          false,
          false,
          false,
          false,
          false,
          false,
          false,
          false,
          false,
          false,
          false,
          false,
          false,
          false,
          false,
          false,
          false,
          false,
          false,
          false,
          false,
          false,
          false,
          false,
          false,
          false,
          false,
          false,
          false,
          false,
          false,
          false,
          false,
          false,
          false,
          false,
          false,
          false,
          false,
          false,
          false,
          false,
          false,
          false,
          false,
          false,
          false,
          false,
          false,
          false,
          false,
          false,
          false,
          false,
          false,
          false,
          false,
          false,
          false,
          false,
          false,
          false,
          false,
          false,
          false,
          false,
          false,
          false,
          false,
          false,
          false,
          false,
          false,
          false,
          false,
          false,
          false,
          false,
          false,
          false,
          false,
          false,
          false,
          false,
          false,
          false,
          false,
          false,
          false,
          false,
          false,
          false,
          false,
          false,
          false,
          false,
          false,
          false,
          false,
          false,
          false,
          false,
          false,
          false,
          false,
          false,
          false,
          false,
          false,
          false,
          false,
          false,
          false,
          false,
          false,
          false,
          false,
          false,
          false,
          false,
          false,
          false,
          false,
          false,
          false,
          false,
          false,
          false,
          false,
          false,
          false,
          false,
          false,
          false,
          false,
          false,
          false,
          false,
          false,
          false,
          false,
          false,
          false,
          false,
          false,
          false,
          false,
          false,
          false,
          false,
          false,
          false,
          false,
          false,
          false,
          false,
          false,
          false,
          false,
          false,
          false,
          false,
          false,
          false,
          false,
          false,
          false,
          false,
          false,
          false,
          false,
          false,
          false,
          false,
          false,
          false,
          false,
          false,
          false,
          false,
          false,
          false,
          false,
          false,
          false,
          false,
          false,
          false,
          false,
          false,
          false,
          false,
          false,
          false,
          false,
          false,
          false,
          false,
          false,
          false,
          false,
          false,
          false,
          false,
          false,
          false,
          false,
          false,
          false,
          false,
          false,
          false,
          false,
          false,
          false,
          false,
          false,
          false,
          false,
          false,
          false,
          false,
          false,
          false,
          false,
          false,
          false,
          false,
          false,
          false,
          false,
          false,
          false,
          false,
          false,
          false,
          false,
          false,
          false,
          false,
          false,
          false,
          false,
          false,
          false,
          false,
          false,
          false,
          false,
          false,
          false,
          false,
          false,
          false,
          false,
          false,
          false,
          false,
          false,
          false,
          false,
          false,
          false,
          false,
          false,
          false,
          false,
          false,
          false,
          false,
          false,
          false,
          false,
          false,
          false,
          false,
          false,
          false,
          false,
          false,
          false,
          false,
          false,
          false,
          false,
          false,
          false,
          false,
          false,
          false,
          false,
          false,
          false,
          false,
          false,
          false,
          false,
          false,
          false,
          false,
          false,
          false,
          false,
          false,
          false,
          false,
          false,
          false,
          false,
          false,
          false,
          false,
          false,
          false,
          false,
          false,
          false,
          false,
          false,
          false,
          false,
          false,
          false,
          false,
          false,
          false,
          false,
          false,
          false,
          false,
          false,
          false,
          false,
          false,
          false,
          false,
          false,
          false,
          false,
          false,
          false,
          false,
          false,
          false,
          false,
          false,
          false,
          false,
          false,
          false,
          false,
          false,
          false,
          false,
          false,
          false,
          false,
          false,
          false,
          false,
          false,
          false,
          false,
          false,
          false,
          false,
          false,
          false,
          false,
          false,
          false,
          false,
          false,
          false,
          false,
          false,
          false,
          false,
          false,
          false,
          false,
          false,
          false,
          false,
          false,
          false,
          false,
          false,
          false,
          false,
          false,
          false,
          false,
          false,
          false,
          false,
          false,
          false,
          false,
          false,
          false,
          false,
          false,
          false,
          false,
          false,
          false,
          false,
          false,
          false,
          false,
          false,
          false,
          false,
          false,
          false,
          false,
          false,
          false,
          false,
          false,
          false,
          false,
          false,
          false,
          false,
          false,
          false,
          false,
          false,
          false,
          false,
          false,
          false,
          false,
          false,
          false,
          false,
          false,
          false,
          false,
          false,
          false,
          false,
          false,
          false,
          false,
          false,
          false,
          false,
          false,
          false,
          false,
          false,
          false,
          false,
          false,
          false,
          false,
          false,
          false,
          false,
          false,
          false,
          false,
          false,
          false,
          false,
          false,
          false,
          false,
          false,
          false,
          false,
          false,
          false,
          false,
          false,
          false,
          false,
          false,
          false,
          false,
          false,
          false,
          false,
          false,
          false,
          false,
          false,
          false,
          false,
          false,
          false,
          false,
          false,
          false,
          false,
          false,
          false,
          false,
          false,
          false,
          false,
          false,
          false,
          false,
          false,
          false,
          false,
          false,
          false,
          false,
          false,
          false,
          false,
          false,
          false,
          false,
          false,
          false,
          false,
          false,
          false,
          false,
          false,
          false,
          false,
          false,
          false,
          false,
          false,
          false,
          false,
          false,
          false,
          false,
          false,
          false,
          false,
          false,
          false,
          false,
          false,
          false,
          false,
          false,
          false,
          false,
          false,
          false,
          false,
          false,
          false,
          false,
          false,
          false,
          false,
          false,
          false,
          false,
          false,
          false,
          false,
          false,
          false,
          false,
          false,
          false,
          false,
          false,
          false,
          false,
          false,
          false,
          false,
          false,
          false,
          false,
          false,
          false,
          false,
          false,
          false,
          false,
          false,
          false,
          false,
          false,
          false,
          false,
          false,
          false,
          false,
          false,
          false,
          false,
          false,
          false,
          false,
          false,
          false,
          false,
          false,
          false,
          false,
          false,
          false,
          false,
          false,
          false,
          false,
          false,
          false,
          false,
          false,
          false,
          false,
          false,
          false,
          false,
          false,
          false,
          false,
          false,
          false,
          false,
          false,
          false,
          false,
          false,
          false,
          false,
          false,
          false,
          false,
          false,
          false,
          false,
          false,
          false,
          false,
          false,
          false,
          false,
          false,
          false,
          false,
          false,
          false,
          false,
          false,
          false,
          false,
          false,
          false,
          false,
          false,
          false,
          false,
          false,
          false,
          false,
          false,
          false,
          false,
          false,
          false,
          false,
          false,
          false,
          false,
          false,
          false,
          false,
          false,
          false,
          false,
          false,
          false,
          false,
          false,
          false,
          false,
          false,
          false,
          false,
          false,
          false,
          false,
          false,
          false,
          false,
          false,
          false,
          false,
          false,
          false,
          false,
          false,
          false,
          false,
          false,
          false,
          false,
          false,
          false,
          false,
          false,
          false,
          false,
          false,
          false,
          false,
          false,
          false,
          false,
          false,
          false,
          false,
          false,
          false,
          false,
          false,
          false,
          false,
          false,
          false,
          false,
          false,
          false,
          false,
          false,
          false,
          false,
          false,
          false,
          false,
          false,
          false,
          false,
          false,
          false,
          false,
          false,
          false,
          false,
          false,
          false,
          false,
          false,
          false,
          false,
          false,
          false,
          false,
          false,
          false,
          false,
          false,
          false,
          false,
          false,
          false,
          false,
          false,
          false,
          false,
          false,
          false,
          false,
          false,
          false,
          false,
          false,
          false,
          false,
          false,
          false,
          false,
          false,
          false,
          false,
          false,
          false,
          false,
          false,
          false,
          false,
          false,
          false,
          false,
          false,
          false,
          false,
          false,
          false,
          false,
          false,
          false,
          false,
          false,
          false,
          false,
          false,
          false,
          false,
          false,
          false,
          false,
          false,
          false,
          false,
          false,
          false,
          false,
          false,
          false,
          false,
          false,
          false,
          false,
          false,
          false,
          false,
          false,
          false,
          false,
          false,
          false,
          false,
          false,
          false,
          false,
          false,
          false,
          false,
          false,
          false,
          false,
          false,
          false,
          false,
          false,
          false,
          false,
          false,
          false,
          false,
          false,
          false,
          false,
          false,
          false,
          false,
          false,
          false,
          false,
          false,
          false,
          false,
          false,
          false,
          false,
          false,
          false,
          false,
          false,
          false,
          false,
          false,
          false,
          false,
          false,
          false,
          false,
          false,
          false,
          false,
          false,
          false,
          false,
          false,
          false,
          false,
          false,
          false,
          false,
          false,
          false,
          false,
          false,
          false,
          false,
          false,
          false,
          false,
          false,
          false,
          false,
          false,
          false,
          false,
          false,
          false,
          false,
          false,
          false,
          false,
          false,
          false,
          false,
          false,
          false,
          false,
          false,
          false,
          false,
          false,
          false,
          false,
          false,
          false,
          false,
          false,
          false,
          false,
          false,
          false,
          false,
          false,
          false,
          false,
          false,
          false,
          false,
          false,
          false,
          false,
          false,
          false,
          false,
          false,
          false,
          false,
          false,
          false,
          false,
          false,
          false,
          false
         ],
         "x0": " ",
         "xaxis": "x",
         "y": {
          "bdata": "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",
          "dtype": "f8"
         },
         "y0": " ",
         "yaxis": "y"
        }
       ],
       "layout": {
        "boxmode": "overlay",
        "height": 400,
        "legend": {
         "title": {
          "text": "Had Stroke"
         },
         "tracegroupgap": 0
        },
        "showlegend": false,
        "template": {
         "data": {
          "bar": [
           {
            "error_x": {
             "color": "#2a3f5f"
            },
            "error_y": {
             "color": "#2a3f5f"
            },
            "marker": {
             "line": {
              "color": "#E5ECF6",
              "width": 0.5
             },
             "pattern": {
              "fillmode": "overlay",
              "size": 10,
              "solidity": 0.2
             }
            },
            "type": "bar"
           }
          ],
          "barpolar": [
           {
            "marker": {
             "line": {
              "color": "#E5ECF6",
              "width": 0.5
             },
             "pattern": {
              "fillmode": "overlay",
              "size": 10,
              "solidity": 0.2
             }
            },
            "type": "barpolar"
           }
          ],
          "carpet": [
           {
            "aaxis": {
             "endlinecolor": "#2a3f5f",
             "gridcolor": "white",
             "linecolor": "white",
             "minorgridcolor": "white",
             "startlinecolor": "#2a3f5f"
            },
            "baxis": {
             "endlinecolor": "#2a3f5f",
             "gridcolor": "white",
             "linecolor": "white",
             "minorgridcolor": "white",
             "startlinecolor": "#2a3f5f"
            },
            "type": "carpet"
           }
          ],
          "choropleth": [
           {
            "colorbar": {
             "outlinewidth": 0,
             "ticks": ""
            },
            "type": "choropleth"
           }
          ],
          "contour": [
           {
            "colorbar": {
             "outlinewidth": 0,
             "ticks": ""
            },
            "colorscale": [
             [
              0,
              "#0d0887"
             ],
             [
              0.1111111111111111,
              "#46039f"
             ],
             [
              0.2222222222222222,
              "#7201a8"
             ],
             [
              0.3333333333333333,
              "#9c179e"
             ],
             [
              0.4444444444444444,
              "#bd3786"
             ],
             [
              0.5555555555555556,
              "#d8576b"
             ],
             [
              0.6666666666666666,
              "#ed7953"
             ],
             [
              0.7777777777777778,
              "#fb9f3a"
             ],
             [
              0.8888888888888888,
              "#fdca26"
             ],
             [
              1,
              "#f0f921"
             ]
            ],
            "type": "contour"
           }
          ],
          "contourcarpet": [
           {
            "colorbar": {
             "outlinewidth": 0,
             "ticks": ""
            },
            "type": "contourcarpet"
           }
          ],
          "heatmap": [
           {
            "colorbar": {
             "outlinewidth": 0,
             "ticks": ""
            },
            "colorscale": [
             [
              0,
              "#0d0887"
             ],
             [
              0.1111111111111111,
              "#46039f"
             ],
             [
              0.2222222222222222,
              "#7201a8"
             ],
             [
              0.3333333333333333,
              "#9c179e"
             ],
             [
              0.4444444444444444,
              "#bd3786"
             ],
             [
              0.5555555555555556,
              "#d8576b"
             ],
             [
              0.6666666666666666,
              "#ed7953"
             ],
             [
              0.7777777777777778,
              "#fb9f3a"
             ],
             [
              0.8888888888888888,
              "#fdca26"
             ],
             [
              1,
              "#f0f921"
             ]
            ],
            "type": "heatmap"
           }
          ],
          "histogram": [
           {
            "marker": {
             "pattern": {
              "fillmode": "overlay",
              "size": 10,
              "solidity": 0.2
             }
            },
            "type": "histogram"
           }
          ],
          "histogram2d": [
           {
            "colorbar": {
             "outlinewidth": 0,
             "ticks": ""
            },
            "colorscale": [
             [
              0,
              "#0d0887"
             ],
             [
              0.1111111111111111,
              "#46039f"
             ],
             [
              0.2222222222222222,
              "#7201a8"
             ],
             [
              0.3333333333333333,
              "#9c179e"
             ],
             [
              0.4444444444444444,
              "#bd3786"
             ],
             [
              0.5555555555555556,
              "#d8576b"
             ],
             [
              0.6666666666666666,
              "#ed7953"
             ],
             [
              0.7777777777777778,
              "#fb9f3a"
             ],
             [
              0.8888888888888888,
              "#fdca26"
             ],
             [
              1,
              "#f0f921"
             ]
            ],
            "type": "histogram2d"
           }
          ],
          "histogram2dcontour": [
           {
            "colorbar": {
             "outlinewidth": 0,
             "ticks": ""
            },
            "colorscale": [
             [
              0,
              "#0d0887"
             ],
             [
              0.1111111111111111,
              "#46039f"
             ],
             [
              0.2222222222222222,
              "#7201a8"
             ],
             [
              0.3333333333333333,
              "#9c179e"
             ],
             [
              0.4444444444444444,
              "#bd3786"
             ],
             [
              0.5555555555555556,
              "#d8576b"
             ],
             [
              0.6666666666666666,
              "#ed7953"
             ],
             [
              0.7777777777777778,
              "#fb9f3a"
             ],
             [
              0.8888888888888888,
              "#fdca26"
             ],
             [
              1,
              "#f0f921"
             ]
            ],
            "type": "histogram2dcontour"
           }
          ],
          "mesh3d": [
           {
            "colorbar": {
             "outlinewidth": 0,
             "ticks": ""
            },
            "type": "mesh3d"
           }
          ],
          "parcoords": [
           {
            "line": {
             "colorbar": {
              "outlinewidth": 0,
              "ticks": ""
             }
            },
            "type": "parcoords"
           }
          ],
          "pie": [
           {
            "automargin": true,
            "type": "pie"
           }
          ],
          "scatter": [
           {
            "fillpattern": {
             "fillmode": "overlay",
             "size": 10,
             "solidity": 0.2
            },
            "type": "scatter"
           }
          ],
          "scatter3d": [
           {
            "line": {
             "colorbar": {
              "outlinewidth": 0,
              "ticks": ""
             }
            },
            "marker": {
             "colorbar": {
              "outlinewidth": 0,
              "ticks": ""
             }
            },
            "type": "scatter3d"
           }
          ],
          "scattercarpet": [
           {
            "marker": {
             "colorbar": {
              "outlinewidth": 0,
              "ticks": ""
             }
            },
            "type": "scattercarpet"
           }
          ],
          "scattergeo": [
           {
            "marker": {
             "colorbar": {
              "outlinewidth": 0,
              "ticks": ""
             }
            },
            "type": "scattergeo"
           }
          ],
          "scattergl": [
           {
            "marker": {
             "colorbar": {
              "outlinewidth": 0,
              "ticks": ""
             }
            },
            "type": "scattergl"
           }
          ],
          "scattermap": [
           {
            "marker": {
             "colorbar": {
              "outlinewidth": 0,
              "ticks": ""
             }
            },
            "type": "scattermap"
           }
          ],
          "scattermapbox": [
           {
            "marker": {
             "colorbar": {
              "outlinewidth": 0,
              "ticks": ""
             }
            },
            "type": "scattermapbox"
           }
          ],
          "scatterpolar": [
           {
            "marker": {
             "colorbar": {
              "outlinewidth": 0,
              "ticks": ""
             }
            },
            "type": "scatterpolar"
           }
          ],
          "scatterpolargl": [
           {
            "marker": {
             "colorbar": {
              "outlinewidth": 0,
              "ticks": ""
             }
            },
            "type": "scatterpolargl"
           }
          ],
          "scatterternary": [
           {
            "marker": {
             "colorbar": {
              "outlinewidth": 0,
              "ticks": ""
             }
            },
            "type": "scatterternary"
           }
          ],
          "surface": [
           {
            "colorbar": {
             "outlinewidth": 0,
             "ticks": ""
            },
            "colorscale": [
             [
              0,
              "#0d0887"
             ],
             [
              0.1111111111111111,
              "#46039f"
             ],
             [
              0.2222222222222222,
              "#7201a8"
             ],
             [
              0.3333333333333333,
              "#9c179e"
             ],
             [
              0.4444444444444444,
              "#bd3786"
             ],
             [
              0.5555555555555556,
              "#d8576b"
             ],
             [
              0.6666666666666666,
              "#ed7953"
             ],
             [
              0.7777777777777778,
              "#fb9f3a"
             ],
             [
              0.8888888888888888,
              "#fdca26"
             ],
             [
              1,
              "#f0f921"
             ]
            ],
            "type": "surface"
           }
          ],
          "table": [
           {
            "cells": {
             "fill": {
              "color": "#EBF0F8"
             },
             "line": {
              "color": "white"
             }
            },
            "header": {
             "fill": {
              "color": "#C8D4E3"
             },
             "line": {
              "color": "white"
             }
            },
            "type": "table"
           }
          ]
         },
         "layout": {
          "annotationdefaults": {
           "arrowcolor": "#2a3f5f",
           "arrowhead": 0,
           "arrowwidth": 1
          },
          "autotypenumbers": "strict",
          "coloraxis": {
           "colorbar": {
            "outlinewidth": 0,
            "ticks": ""
           }
          },
          "colorscale": {
           "diverging": [
            [
             0,
             "#8e0152"
            ],
            [
             0.1,
             "#c51b7d"
            ],
            [
             0.2,
             "#de77ae"
            ],
            [
             0.3,
             "#f1b6da"
            ],
            [
             0.4,
             "#fde0ef"
            ],
            [
             0.5,
             "#f7f7f7"
            ],
            [
             0.6,
             "#e6f5d0"
            ],
            [
             0.7,
             "#b8e186"
            ],
            [
             0.8,
             "#7fbc41"
            ],
            [
             0.9,
             "#4d9221"
            ],
            [
             1,
             "#276419"
            ]
           ],
           "sequential": [
            [
             0,
             "#0d0887"
            ],
            [
             0.1111111111111111,
             "#46039f"
            ],
            [
             0.2222222222222222,
             "#7201a8"
            ],
            [
             0.3333333333333333,
             "#9c179e"
            ],
            [
             0.4444444444444444,
             "#bd3786"
            ],
            [
             0.5555555555555556,
             "#d8576b"
            ],
            [
             0.6666666666666666,
             "#ed7953"
            ],
            [
             0.7777777777777778,
             "#fb9f3a"
            ],
            [
             0.8888888888888888,
             "#fdca26"
            ],
            [
             1,
             "#f0f921"
            ]
           ],
           "sequentialminus": [
            [
             0,
             "#0d0887"
            ],
            [
             0.1111111111111111,
             "#46039f"
            ],
            [
             0.2222222222222222,
             "#7201a8"
            ],
            [
             0.3333333333333333,
             "#9c179e"
            ],
            [
             0.4444444444444444,
             "#bd3786"
            ],
            [
             0.5555555555555556,
             "#d8576b"
            ],
            [
             0.6666666666666666,
             "#ed7953"
            ],
            [
             0.7777777777777778,
             "#fb9f3a"
            ],
            [
             0.8888888888888888,
             "#fdca26"
            ],
            [
             1,
             "#f0f921"
            ]
           ]
          },
          "colorway": [
           "#636efa",
           "#EF553B",
           "#00cc96",
           "#ab63fa",
           "#FFA15A",
           "#19d3f3",
           "#FF6692",
           "#B6E880",
           "#FF97FF",
           "#FECB52"
          ],
          "font": {
           "color": "#2a3f5f"
          },
          "geo": {
           "bgcolor": "white",
           "lakecolor": "white",
           "landcolor": "#E5ECF6",
           "showlakes": true,
           "showland": true,
           "subunitcolor": "white"
          },
          "hoverlabel": {
           "align": "left"
          },
          "hovermode": "closest",
          "mapbox": {
           "style": "light"
          },
          "paper_bgcolor": "white",
          "plot_bgcolor": "#E5ECF6",
          "polar": {
           "angularaxis": {
            "gridcolor": "white",
            "linecolor": "white",
            "ticks": ""
           },
           "bgcolor": "#E5ECF6",
           "radialaxis": {
            "gridcolor": "white",
            "linecolor": "white",
            "ticks": ""
           }
          },
          "scene": {
           "xaxis": {
            "backgroundcolor": "#E5ECF6",
            "gridcolor": "white",
            "gridwidth": 2,
            "linecolor": "white",
            "showbackground": true,
            "ticks": "",
            "zerolinecolor": "white"
           },
           "yaxis": {
            "backgroundcolor": "#E5ECF6",
            "gridcolor": "white",
            "gridwidth": 2,
            "linecolor": "white",
            "showbackground": true,
            "ticks": "",
            "zerolinecolor": "white"
           },
           "zaxis": {
            "backgroundcolor": "#E5ECF6",
            "gridcolor": "white",
            "gridwidth": 2,
            "linecolor": "white",
            "showbackground": true,
            "ticks": "",
            "zerolinecolor": "white"
           }
          },
          "shapedefaults": {
           "line": {
            "color": "#2a3f5f"
           }
          },
          "ternary": {
           "aaxis": {
            "gridcolor": "white",
            "linecolor": "white",
            "ticks": ""
           },
           "baxis": {
            "gridcolor": "white",
            "linecolor": "white",
            "ticks": ""
           },
           "bgcolor": "#E5ECF6",
           "caxis": {
            "gridcolor": "white",
            "linecolor": "white",
            "ticks": ""
           }
          },
          "title": {
           "x": 0.05
          },
          "xaxis": {
           "automargin": true,
           "gridcolor": "white",
           "linecolor": "white",
           "ticks": "",
           "title": {
            "standoff": 15
           },
           "zerolinecolor": "white",
           "zerolinewidth": 2
          },
          "yaxis": {
           "automargin": true,
           "gridcolor": "white",
           "linecolor": "white",
           "ticks": "",
           "title": {
            "standoff": 15
           },
           "zerolinecolor": "white",
           "zerolinewidth": 2
          }
         }
        },
        "title": {
         "text": "Age Distribution: Stroke vs No Stroke"
        },
        "xaxis": {
         "anchor": "y",
         "categoryarray": [
          true,
          false
         ],
         "categoryorder": "array",
         "domain": [
          0,
          1
         ],
         "ticktext": [
          "No Stroke",
          "Stroke"
         ],
         "tickvals": [
          0,
          1
         ],
         "title": {
          "text": "Had Stroke"
         }
        },
        "yaxis": {
         "anchor": "x",
         "domain": [
          0,
          1
         ],
         "title": {
          "text": "Age (years)"
         }
        }
       }
      }
     },
     "metadata": {},
     "output_type": "display_data"
    }
   ],
   "source": [
    "#Age Distribution by stroke\n",
    "#What is the median age of the patients with stroke and without stroke?\n",
    "\n",
    "fig_box = px.box(\n",
    "    df,\n",
    "    y='Age',\n",
    "    x='Stroke',\n",
    "    title='Age Distribution: Stroke vs No Stroke',\n",
    "    labels={'Age': 'Age (years)', 'Stroke': 'Had Stroke'},\n",
    "    color='Stroke',\n",
    "    color_discrete_map={0: '#3498db', 1: '#e74c3c'}\n",
    ")\n",
    "\n",
    "# Customize axes and layout\n",
    "fig_box.update_xaxes(ticktext=['No Stroke', 'Stroke'], tickvals=[0, 1])\n",
    "fig_box.update_layout(height=400, showlegend=False)\n",
    "\n",
    "# Display chart\n",
    "fig_box.show()"
   ]
  },
  {
   "cell_type": "markdown",
   "id": "0b9f5992",
   "metadata": {},
   "source": [
    "### Reflection\n",
    "This chart indicated that the median age for stroke patients is lower, at 40, with the majority of individuals falling within the 20 to 60 age range. In contrast, the median age of non-stroke patients is 65, with a narrower age distribution"
   ]
  },
  {
   "cell_type": "code",
   "execution_count": 21,
   "id": "f21be497",
   "metadata": {},
   "outputs": [
    {
     "data": {
      "text/html": [
       "<div>\n",
       "<style scoped>\n",
       "    .dataframe tbody tr th:only-of-type {\n",
       "        vertical-align: middle;\n",
       "    }\n",
       "\n",
       "    .dataframe tbody tr th {\n",
       "        vertical-align: top;\n",
       "    }\n",
       "\n",
       "    .dataframe thead th {\n",
       "        text-align: right;\n",
       "    }\n",
       "</style>\n",
       "<table border=\"1\" class=\"dataframe\">\n",
       "  <thead>\n",
       "    <tr style=\"text-align: right;\">\n",
       "      <th></th>\n",
       "      <th>Heart Disease</th>\n",
       "      <th>Stroke</th>\n",
       "      <th>Count</th>\n",
       "      <th>Percentage within Heart Disease (%)</th>\n",
       "    </tr>\n",
       "  </thead>\n",
       "  <tbody>\n",
       "    <tr>\n",
       "      <th>0</th>\n",
       "      <td>False</td>\n",
       "      <td>False</td>\n",
       "      <td>4632</td>\n",
       "      <td>95.82</td>\n",
       "    </tr>\n",
       "    <tr>\n",
       "      <th>1</th>\n",
       "      <td>False</td>\n",
       "      <td>True</td>\n",
       "      <td>202</td>\n",
       "      <td>4.18</td>\n",
       "    </tr>\n",
       "    <tr>\n",
       "      <th>2</th>\n",
       "      <td>True</td>\n",
       "      <td>False</td>\n",
       "      <td>229</td>\n",
       "      <td>82.97</td>\n",
       "    </tr>\n",
       "    <tr>\n",
       "      <th>3</th>\n",
       "      <td>True</td>\n",
       "      <td>True</td>\n",
       "      <td>47</td>\n",
       "      <td>17.03</td>\n",
       "    </tr>\n",
       "  </tbody>\n",
       "</table>\n",
       "</div>"
      ],
      "text/plain": [
       "   Heart Disease  Stroke  Count  Percentage within Heart Disease (%)\n",
       "0          False   False   4632                                95.82\n",
       "1          False    True    202                                 4.18\n",
       "2           True   False    229                                82.97\n",
       "3           True    True     47                                17.03"
      ]
     },
     "execution_count": 21,
     "metadata": {},
     "output_type": "execute_result"
    }
   ],
   "source": [
    "#Heart Diseases and Storke\n",
    "grp = df.groupby(['Heart Disease', 'Stroke']).size().reset_index(name='Count')\n",
    "\n",
    "# % within each Heart Disease group (row-wise)\n",
    "grp['Percentage within Heart Disease (%)'] = (\n",
    "    grp['Count'] / grp.groupby('Heart Disease')['Count'].transform('sum') * 100\n",
    ").round(2)\n",
    "\n",
    "grp"
   ]
  },
  {
   "cell_type": "markdown",
   "id": "82f1fa3b",
   "metadata": {},
   "source": [
    "### Reflection\n",
    "The pivot table shows that stoke rate in patient with heart disease is significantly higer than that of no heart disease patients with 17.03% and 4.18 % respectively."
   ]
  },
  {
   "cell_type": "code",
   "execution_count": 22,
   "id": "d0abec35",
   "metadata": {},
   "outputs": [
    {
     "data": {
      "application/vnd.plotly.v1+json": {
       "config": {
        "plotlyServerURL": "https://plot.ly"
       },
       "data": [
        {
         "hovertemplate": "Smoking Status=%{x}<br>Stroke Rate (%)=%{y}<extra></extra>",
         "legendgroup": "",
         "marker": {
          "color": "#43a6df",
          "pattern": {
           "shape": ""
          }
         },
         "name": "",
         "orientation": "v",
         "showlegend": false,
         "textposition": "auto",
         "type": "bar",
         "x": [
          "Unknown",
          "formerly smoked",
          "never smoked",
          "smokes"
         ],
         "xaxis": "x",
         "y": {
          "bdata": "RA12ZzJaCECG5AJeb6MfQB+fajMJBxNAUfSTWPNKFUA=",
          "dtype": "f8"
         },
         "yaxis": "y"
        }
       ],
       "layout": {
        "barmode": "relative",
        "height": 400,
        "legend": {
         "tracegroupgap": 0
        },
        "template": {
         "data": {
          "bar": [
           {
            "error_x": {
             "color": "#2a3f5f"
            },
            "error_y": {
             "color": "#2a3f5f"
            },
            "marker": {
             "line": {
              "color": "#E5ECF6",
              "width": 0.5
             },
             "pattern": {
              "fillmode": "overlay",
              "size": 10,
              "solidity": 0.2
             }
            },
            "type": "bar"
           }
          ],
          "barpolar": [
           {
            "marker": {
             "line": {
              "color": "#E5ECF6",
              "width": 0.5
             },
             "pattern": {
              "fillmode": "overlay",
              "size": 10,
              "solidity": 0.2
             }
            },
            "type": "barpolar"
           }
          ],
          "carpet": [
           {
            "aaxis": {
             "endlinecolor": "#2a3f5f",
             "gridcolor": "white",
             "linecolor": "white",
             "minorgridcolor": "white",
             "startlinecolor": "#2a3f5f"
            },
            "baxis": {
             "endlinecolor": "#2a3f5f",
             "gridcolor": "white",
             "linecolor": "white",
             "minorgridcolor": "white",
             "startlinecolor": "#2a3f5f"
            },
            "type": "carpet"
           }
          ],
          "choropleth": [
           {
            "colorbar": {
             "outlinewidth": 0,
             "ticks": ""
            },
            "type": "choropleth"
           }
          ],
          "contour": [
           {
            "colorbar": {
             "outlinewidth": 0,
             "ticks": ""
            },
            "colorscale": [
             [
              0,
              "#0d0887"
             ],
             [
              0.1111111111111111,
              "#46039f"
             ],
             [
              0.2222222222222222,
              "#7201a8"
             ],
             [
              0.3333333333333333,
              "#9c179e"
             ],
             [
              0.4444444444444444,
              "#bd3786"
             ],
             [
              0.5555555555555556,
              "#d8576b"
             ],
             [
              0.6666666666666666,
              "#ed7953"
             ],
             [
              0.7777777777777778,
              "#fb9f3a"
             ],
             [
              0.8888888888888888,
              "#fdca26"
             ],
             [
              1,
              "#f0f921"
             ]
            ],
            "type": "contour"
           }
          ],
          "contourcarpet": [
           {
            "colorbar": {
             "outlinewidth": 0,
             "ticks": ""
            },
            "type": "contourcarpet"
           }
          ],
          "heatmap": [
           {
            "colorbar": {
             "outlinewidth": 0,
             "ticks": ""
            },
            "colorscale": [
             [
              0,
              "#0d0887"
             ],
             [
              0.1111111111111111,
              "#46039f"
             ],
             [
              0.2222222222222222,
              "#7201a8"
             ],
             [
              0.3333333333333333,
              "#9c179e"
             ],
             [
              0.4444444444444444,
              "#bd3786"
             ],
             [
              0.5555555555555556,
              "#d8576b"
             ],
             [
              0.6666666666666666,
              "#ed7953"
             ],
             [
              0.7777777777777778,
              "#fb9f3a"
             ],
             [
              0.8888888888888888,
              "#fdca26"
             ],
             [
              1,
              "#f0f921"
             ]
            ],
            "type": "heatmap"
           }
          ],
          "histogram": [
           {
            "marker": {
             "pattern": {
              "fillmode": "overlay",
              "size": 10,
              "solidity": 0.2
             }
            },
            "type": "histogram"
           }
          ],
          "histogram2d": [
           {
            "colorbar": {
             "outlinewidth": 0,
             "ticks": ""
            },
            "colorscale": [
             [
              0,
              "#0d0887"
             ],
             [
              0.1111111111111111,
              "#46039f"
             ],
             [
              0.2222222222222222,
              "#7201a8"
             ],
             [
              0.3333333333333333,
              "#9c179e"
             ],
             [
              0.4444444444444444,
              "#bd3786"
             ],
             [
              0.5555555555555556,
              "#d8576b"
             ],
             [
              0.6666666666666666,
              "#ed7953"
             ],
             [
              0.7777777777777778,
              "#fb9f3a"
             ],
             [
              0.8888888888888888,
              "#fdca26"
             ],
             [
              1,
              "#f0f921"
             ]
            ],
            "type": "histogram2d"
           }
          ],
          "histogram2dcontour": [
           {
            "colorbar": {
             "outlinewidth": 0,
             "ticks": ""
            },
            "colorscale": [
             [
              0,
              "#0d0887"
             ],
             [
              0.1111111111111111,
              "#46039f"
             ],
             [
              0.2222222222222222,
              "#7201a8"
             ],
             [
              0.3333333333333333,
              "#9c179e"
             ],
             [
              0.4444444444444444,
              "#bd3786"
             ],
             [
              0.5555555555555556,
              "#d8576b"
             ],
             [
              0.6666666666666666,
              "#ed7953"
             ],
             [
              0.7777777777777778,
              "#fb9f3a"
             ],
             [
              0.8888888888888888,
              "#fdca26"
             ],
             [
              1,
              "#f0f921"
             ]
            ],
            "type": "histogram2dcontour"
           }
          ],
          "mesh3d": [
           {
            "colorbar": {
             "outlinewidth": 0,
             "ticks": ""
            },
            "type": "mesh3d"
           }
          ],
          "parcoords": [
           {
            "line": {
             "colorbar": {
              "outlinewidth": 0,
              "ticks": ""
             }
            },
            "type": "parcoords"
           }
          ],
          "pie": [
           {
            "automargin": true,
            "type": "pie"
           }
          ],
          "scatter": [
           {
            "fillpattern": {
             "fillmode": "overlay",
             "size": 10,
             "solidity": 0.2
            },
            "type": "scatter"
           }
          ],
          "scatter3d": [
           {
            "line": {
             "colorbar": {
              "outlinewidth": 0,
              "ticks": ""
             }
            },
            "marker": {
             "colorbar": {
              "outlinewidth": 0,
              "ticks": ""
             }
            },
            "type": "scatter3d"
           }
          ],
          "scattercarpet": [
           {
            "marker": {
             "colorbar": {
              "outlinewidth": 0,
              "ticks": ""
             }
            },
            "type": "scattercarpet"
           }
          ],
          "scattergeo": [
           {
            "marker": {
             "colorbar": {
              "outlinewidth": 0,
              "ticks": ""
             }
            },
            "type": "scattergeo"
           }
          ],
          "scattergl": [
           {
            "marker": {
             "colorbar": {
              "outlinewidth": 0,
              "ticks": ""
             }
            },
            "type": "scattergl"
           }
          ],
          "scattermap": [
           {
            "marker": {
             "colorbar": {
              "outlinewidth": 0,
              "ticks": ""
             }
            },
            "type": "scattermap"
           }
          ],
          "scattermapbox": [
           {
            "marker": {
             "colorbar": {
              "outlinewidth": 0,
              "ticks": ""
             }
            },
            "type": "scattermapbox"
           }
          ],
          "scatterpolar": [
           {
            "marker": {
             "colorbar": {
              "outlinewidth": 0,
              "ticks": ""
             }
            },
            "type": "scatterpolar"
           }
          ],
          "scatterpolargl": [
           {
            "marker": {
             "colorbar": {
              "outlinewidth": 0,
              "ticks": ""
             }
            },
            "type": "scatterpolargl"
           }
          ],
          "scatterternary": [
           {
            "marker": {
             "colorbar": {
              "outlinewidth": 0,
              "ticks": ""
             }
            },
            "type": "scatterternary"
           }
          ],
          "surface": [
           {
            "colorbar": {
             "outlinewidth": 0,
             "ticks": ""
            },
            "colorscale": [
             [
              0,
              "#0d0887"
             ],
             [
              0.1111111111111111,
              "#46039f"
             ],
             [
              0.2222222222222222,
              "#7201a8"
             ],
             [
              0.3333333333333333,
              "#9c179e"
             ],
             [
              0.4444444444444444,
              "#bd3786"
             ],
             [
              0.5555555555555556,
              "#d8576b"
             ],
             [
              0.6666666666666666,
              "#ed7953"
             ],
             [
              0.7777777777777778,
              "#fb9f3a"
             ],
             [
              0.8888888888888888,
              "#fdca26"
             ],
             [
              1,
              "#f0f921"
             ]
            ],
            "type": "surface"
           }
          ],
          "table": [
           {
            "cells": {
             "fill": {
              "color": "#EBF0F8"
             },
             "line": {
              "color": "white"
             }
            },
            "header": {
             "fill": {
              "color": "#C8D4E3"
             },
             "line": {
              "color": "white"
             }
            },
            "type": "table"
           }
          ]
         },
         "layout": {
          "annotationdefaults": {
           "arrowcolor": "#2a3f5f",
           "arrowhead": 0,
           "arrowwidth": 1
          },
          "autotypenumbers": "strict",
          "coloraxis": {
           "colorbar": {
            "outlinewidth": 0,
            "ticks": ""
           }
          },
          "colorscale": {
           "diverging": [
            [
             0,
             "#8e0152"
            ],
            [
             0.1,
             "#c51b7d"
            ],
            [
             0.2,
             "#de77ae"
            ],
            [
             0.3,
             "#f1b6da"
            ],
            [
             0.4,
             "#fde0ef"
            ],
            [
             0.5,
             "#f7f7f7"
            ],
            [
             0.6,
             "#e6f5d0"
            ],
            [
             0.7,
             "#b8e186"
            ],
            [
             0.8,
             "#7fbc41"
            ],
            [
             0.9,
             "#4d9221"
            ],
            [
             1,
             "#276419"
            ]
           ],
           "sequential": [
            [
             0,
             "#0d0887"
            ],
            [
             0.1111111111111111,
             "#46039f"
            ],
            [
             0.2222222222222222,
             "#7201a8"
            ],
            [
             0.3333333333333333,
             "#9c179e"
            ],
            [
             0.4444444444444444,
             "#bd3786"
            ],
            [
             0.5555555555555556,
             "#d8576b"
            ],
            [
             0.6666666666666666,
             "#ed7953"
            ],
            [
             0.7777777777777778,
             "#fb9f3a"
            ],
            [
             0.8888888888888888,
             "#fdca26"
            ],
            [
             1,
             "#f0f921"
            ]
           ],
           "sequentialminus": [
            [
             0,
             "#0d0887"
            ],
            [
             0.1111111111111111,
             "#46039f"
            ],
            [
             0.2222222222222222,
             "#7201a8"
            ],
            [
             0.3333333333333333,
             "#9c179e"
            ],
            [
             0.4444444444444444,
             "#bd3786"
            ],
            [
             0.5555555555555556,
             "#d8576b"
            ],
            [
             0.6666666666666666,
             "#ed7953"
            ],
            [
             0.7777777777777778,
             "#fb9f3a"
            ],
            [
             0.8888888888888888,
             "#fdca26"
            ],
            [
             1,
             "#f0f921"
            ]
           ]
          },
          "colorway": [
           "#636efa",
           "#EF553B",
           "#00cc96",
           "#ab63fa",
           "#FFA15A",
           "#19d3f3",
           "#FF6692",
           "#B6E880",
           "#FF97FF",
           "#FECB52"
          ],
          "font": {
           "color": "#2a3f5f"
          },
          "geo": {
           "bgcolor": "white",
           "lakecolor": "white",
           "landcolor": "#E5ECF6",
           "showlakes": true,
           "showland": true,
           "subunitcolor": "white"
          },
          "hoverlabel": {
           "align": "left"
          },
          "hovermode": "closest",
          "mapbox": {
           "style": "light"
          },
          "paper_bgcolor": "white",
          "plot_bgcolor": "#E5ECF6",
          "polar": {
           "angularaxis": {
            "gridcolor": "white",
            "linecolor": "white",
            "ticks": ""
           },
           "bgcolor": "#E5ECF6",
           "radialaxis": {
            "gridcolor": "white",
            "linecolor": "white",
            "ticks": ""
           }
          },
          "scene": {
           "xaxis": {
            "backgroundcolor": "#E5ECF6",
            "gridcolor": "white",
            "gridwidth": 2,
            "linecolor": "white",
            "showbackground": true,
            "ticks": "",
            "zerolinecolor": "white"
           },
           "yaxis": {
            "backgroundcolor": "#E5ECF6",
            "gridcolor": "white",
            "gridwidth": 2,
            "linecolor": "white",
            "showbackground": true,
            "ticks": "",
            "zerolinecolor": "white"
           },
           "zaxis": {
            "backgroundcolor": "#E5ECF6",
            "gridcolor": "white",
            "gridwidth": 2,
            "linecolor": "white",
            "showbackground": true,
            "ticks": "",
            "zerolinecolor": "white"
           }
          },
          "shapedefaults": {
           "line": {
            "color": "#2a3f5f"
           }
          },
          "ternary": {
           "aaxis": {
            "gridcolor": "white",
            "linecolor": "white",
            "ticks": ""
           },
           "baxis": {
            "gridcolor": "white",
            "linecolor": "white",
            "ticks": ""
           },
           "bgcolor": "#E5ECF6",
           "caxis": {
            "gridcolor": "white",
            "linecolor": "white",
            "ticks": ""
           }
          },
          "title": {
           "x": 0.05
          },
          "xaxis": {
           "automargin": true,
           "gridcolor": "white",
           "linecolor": "white",
           "ticks": "",
           "title": {
            "standoff": 15
           },
           "zerolinecolor": "white",
           "zerolinewidth": 2
          },
          "yaxis": {
           "automargin": true,
           "gridcolor": "white",
           "linecolor": "white",
           "ticks": "",
           "title": {
            "standoff": 15
           },
           "zerolinecolor": "white",
           "zerolinewidth": 2
          }
         }
        },
        "title": {
         "text": "Stroke Rate by Smoking Status"
        },
        "xaxis": {
         "anchor": "y",
         "domain": [
          0,
          1
         ],
         "title": {
          "text": "Smoking Status"
         }
        },
        "yaxis": {
         "anchor": "x",
         "domain": [
          0,
          1
         ],
         "title": {
          "text": "Stroke Rate (%)"
         }
        }
       }
      }
     },
     "metadata": {},
     "output_type": "display_data"
    }
   ],
   "source": [
    "#Smoking and Storke\n",
    "grp_smoke = df.groupby('Smoking?')['Stroke'].mean().reset_index()\n",
    "\n",
    "# Convert stroke rate to percentage\n",
    "grp_smoke['Stroke Rate (%)'] = grp_smoke['Stroke'] * 100\n",
    "\n",
    "# Create bar chart\n",
    "fig_smoke = px.bar(\n",
    "    grp_smoke,\n",
    "    x='Smoking?',\n",
    "    y='Stroke Rate (%)',\n",
    "    title='Stroke Rate by Smoking Status',\n",
    "    labels={'Smoking?': 'Smoking Status', 'Stroke Rate (%)': 'Stroke Rate (%)'},\n",
    "    color_discrete_sequence=[\"#43a6df\"]\n",
    ")\n",
    "\n",
    "# Adjust layout\n",
    "fig_smoke.update_layout(height=400)\n",
    "\n",
    "# Display chart\n",
    "fig_smoke.show()"
   ]
  },
  {
   "cell_type": "markdown",
   "id": "b5fc0864",
   "metadata": {},
   "source": [
    "### Reflection\n",
    "The graph shows that the rates are higher among former and current smokers, with figures of 7.9% and 5.3% respectively, compared to never smokers, who have a rate of under 4.7%"
   ]
  },
  {
   "cell_type": "code",
   "execution_count": 23,
   "id": "0b961704",
   "metadata": {},
   "outputs": [
    {
     "data": {
      "text/html": [
       "<div>\n",
       "<style scoped>\n",
       "    .dataframe tbody tr th:only-of-type {\n",
       "        vertical-align: middle;\n",
       "    }\n",
       "\n",
       "    .dataframe tbody tr th {\n",
       "        vertical-align: top;\n",
       "    }\n",
       "\n",
       "    .dataframe thead th {\n",
       "        text-align: right;\n",
       "    }\n",
       "</style>\n",
       "<table border=\"1\" class=\"dataframe\">\n",
       "  <thead>\n",
       "    <tr style=\"text-align: right;\">\n",
       "      <th></th>\n",
       "      <th>Work Type</th>\n",
       "      <th>Residence Type</th>\n",
       "      <th>Heart Disease</th>\n",
       "      <th>Heart Disease Rate (%)</th>\n",
       "    </tr>\n",
       "  </thead>\n",
       "  <tbody>\n",
       "    <tr>\n",
       "      <th>0</th>\n",
       "      <td>Govt_job</td>\n",
       "      <td>Rural</td>\n",
       "      <td>0.051282</td>\n",
       "      <td>5.128205</td>\n",
       "    </tr>\n",
       "    <tr>\n",
       "      <th>1</th>\n",
       "      <td>Govt_job</td>\n",
       "      <td>Urban</td>\n",
       "      <td>0.057971</td>\n",
       "      <td>5.797101</td>\n",
       "    </tr>\n",
       "    <tr>\n",
       "      <th>2</th>\n",
       "      <td>Never_worked</td>\n",
       "      <td>Rural</td>\n",
       "      <td>0.000000</td>\n",
       "      <td>0.000000</td>\n",
       "    </tr>\n",
       "    <tr>\n",
       "      <th>3</th>\n",
       "      <td>Never_worked</td>\n",
       "      <td>Urban</td>\n",
       "      <td>0.000000</td>\n",
       "      <td>0.000000</td>\n",
       "    </tr>\n",
       "    <tr>\n",
       "      <th>4</th>\n",
       "      <td>Private</td>\n",
       "      <td>Rural</td>\n",
       "      <td>0.055404</td>\n",
       "      <td>5.540356</td>\n",
       "    </tr>\n",
       "    <tr>\n",
       "      <th>5</th>\n",
       "      <td>Private</td>\n",
       "      <td>Urban</td>\n",
       "      <td>0.052632</td>\n",
       "      <td>5.263158</td>\n",
       "    </tr>\n",
       "    <tr>\n",
       "      <th>6</th>\n",
       "      <td>Self-employed</td>\n",
       "      <td>Rural</td>\n",
       "      <td>0.094148</td>\n",
       "      <td>9.414758</td>\n",
       "    </tr>\n",
       "    <tr>\n",
       "      <th>7</th>\n",
       "      <td>Self-employed</td>\n",
       "      <td>Urban</td>\n",
       "      <td>0.103286</td>\n",
       "      <td>10.328638</td>\n",
       "    </tr>\n",
       "    <tr>\n",
       "      <th>8</th>\n",
       "      <td>children</td>\n",
       "      <td>Rural</td>\n",
       "      <td>0.000000</td>\n",
       "      <td>0.000000</td>\n",
       "    </tr>\n",
       "    <tr>\n",
       "      <th>9</th>\n",
       "      <td>children</td>\n",
       "      <td>Urban</td>\n",
       "      <td>0.002882</td>\n",
       "      <td>0.288184</td>\n",
       "    </tr>\n",
       "  </tbody>\n",
       "</table>\n",
       "</div>"
      ],
      "text/plain": [
       "       Work Type Residence Type  Heart Disease  Heart Disease Rate (%)\n",
       "0       Govt_job          Rural       0.051282                5.128205\n",
       "1       Govt_job          Urban       0.057971                5.797101\n",
       "2   Never_worked          Rural       0.000000                0.000000\n",
       "3   Never_worked          Urban       0.000000                0.000000\n",
       "4        Private          Rural       0.055404                5.540356\n",
       "5        Private          Urban       0.052632                5.263158\n",
       "6  Self-employed          Rural       0.094148                9.414758\n",
       "7  Self-employed          Urban       0.103286               10.328638\n",
       "8       children          Rural       0.000000                0.000000\n",
       "9       children          Urban       0.002882                0.288184"
      ]
     },
     "execution_count": 23,
     "metadata": {},
     "output_type": "execute_result"
    }
   ],
   "source": [
    "#Work type, residence, heart disease\n",
    "\n",
    "grp_work = df.groupby(['Work Type', 'Residence Type'])['Heart Disease'].mean().reset_index()\n",
    "grp_work['Heart Disease Rate (%)'] = grp_work['Heart Disease'] * 100\n",
    "grp_work"
   ]
  },
  {
   "cell_type": "markdown",
   "id": "f93f4328",
   "metadata": {},
   "source": [
    "### Reflection\n",
    "The table shows that the highest proportion (10%) among self-employed individuals living in urban areas, while the lowest proportion (5.6%) was among those with private jobs in urban areas"
   ]
  },
  {
   "cell_type": "code",
   "execution_count": 24,
   "id": "45bffdf3",
   "metadata": {},
   "outputs": [
    {
     "data": {
      "application/vnd.plotly.v1+json": {
       "config": {
        "plotlyServerURL": "https://plot.ly"
       },
       "data": [
        {
         "hovertemplate": "Stroke Status=%{x}<br>Average Glucose Level (mg/dL)=%{y}<extra></extra>",
         "legendgroup": "",
         "marker": {
          "color": "#250feb",
          "pattern": {
           "shape": ""
          }
         },
         "name": "",
         "orientation": "v",
         "showlegend": false,
         "textposition": "auto",
         "type": "bar",
         "x": [
          false,
          true
         ],
         "xaxis": "x",
         "y": {
          "bdata": "dlZ8sOkyWkDIA2SAbpFgQA==",
          "dtype": "f8"
         },
         "yaxis": "y"
        }
       ],
       "layout": {
        "barmode": "relative",
        "height": 400,
        "legend": {
         "tracegroupgap": 0
        },
        "template": {
         "data": {
          "bar": [
           {
            "error_x": {
             "color": "#2a3f5f"
            },
            "error_y": {
             "color": "#2a3f5f"
            },
            "marker": {
             "line": {
              "color": "#E5ECF6",
              "width": 0.5
             },
             "pattern": {
              "fillmode": "overlay",
              "size": 10,
              "solidity": 0.2
             }
            },
            "type": "bar"
           }
          ],
          "barpolar": [
           {
            "marker": {
             "line": {
              "color": "#E5ECF6",
              "width": 0.5
             },
             "pattern": {
              "fillmode": "overlay",
              "size": 10,
              "solidity": 0.2
             }
            },
            "type": "barpolar"
           }
          ],
          "carpet": [
           {
            "aaxis": {
             "endlinecolor": "#2a3f5f",
             "gridcolor": "white",
             "linecolor": "white",
             "minorgridcolor": "white",
             "startlinecolor": "#2a3f5f"
            },
            "baxis": {
             "endlinecolor": "#2a3f5f",
             "gridcolor": "white",
             "linecolor": "white",
             "minorgridcolor": "white",
             "startlinecolor": "#2a3f5f"
            },
            "type": "carpet"
           }
          ],
          "choropleth": [
           {
            "colorbar": {
             "outlinewidth": 0,
             "ticks": ""
            },
            "type": "choropleth"
           }
          ],
          "contour": [
           {
            "colorbar": {
             "outlinewidth": 0,
             "ticks": ""
            },
            "colorscale": [
             [
              0,
              "#0d0887"
             ],
             [
              0.1111111111111111,
              "#46039f"
             ],
             [
              0.2222222222222222,
              "#7201a8"
             ],
             [
              0.3333333333333333,
              "#9c179e"
             ],
             [
              0.4444444444444444,
              "#bd3786"
             ],
             [
              0.5555555555555556,
              "#d8576b"
             ],
             [
              0.6666666666666666,
              "#ed7953"
             ],
             [
              0.7777777777777778,
              "#fb9f3a"
             ],
             [
              0.8888888888888888,
              "#fdca26"
             ],
             [
              1,
              "#f0f921"
             ]
            ],
            "type": "contour"
           }
          ],
          "contourcarpet": [
           {
            "colorbar": {
             "outlinewidth": 0,
             "ticks": ""
            },
            "type": "contourcarpet"
           }
          ],
          "heatmap": [
           {
            "colorbar": {
             "outlinewidth": 0,
             "ticks": ""
            },
            "colorscale": [
             [
              0,
              "#0d0887"
             ],
             [
              0.1111111111111111,
              "#46039f"
             ],
             [
              0.2222222222222222,
              "#7201a8"
             ],
             [
              0.3333333333333333,
              "#9c179e"
             ],
             [
              0.4444444444444444,
              "#bd3786"
             ],
             [
              0.5555555555555556,
              "#d8576b"
             ],
             [
              0.6666666666666666,
              "#ed7953"
             ],
             [
              0.7777777777777778,
              "#fb9f3a"
             ],
             [
              0.8888888888888888,
              "#fdca26"
             ],
             [
              1,
              "#f0f921"
             ]
            ],
            "type": "heatmap"
           }
          ],
          "histogram": [
           {
            "marker": {
             "pattern": {
              "fillmode": "overlay",
              "size": 10,
              "solidity": 0.2
             }
            },
            "type": "histogram"
           }
          ],
          "histogram2d": [
           {
            "colorbar": {
             "outlinewidth": 0,
             "ticks": ""
            },
            "colorscale": [
             [
              0,
              "#0d0887"
             ],
             [
              0.1111111111111111,
              "#46039f"
             ],
             [
              0.2222222222222222,
              "#7201a8"
             ],
             [
              0.3333333333333333,
              "#9c179e"
             ],
             [
              0.4444444444444444,
              "#bd3786"
             ],
             [
              0.5555555555555556,
              "#d8576b"
             ],
             [
              0.6666666666666666,
              "#ed7953"
             ],
             [
              0.7777777777777778,
              "#fb9f3a"
             ],
             [
              0.8888888888888888,
              "#fdca26"
             ],
             [
              1,
              "#f0f921"
             ]
            ],
            "type": "histogram2d"
           }
          ],
          "histogram2dcontour": [
           {
            "colorbar": {
             "outlinewidth": 0,
             "ticks": ""
            },
            "colorscale": [
             [
              0,
              "#0d0887"
             ],
             [
              0.1111111111111111,
              "#46039f"
             ],
             [
              0.2222222222222222,
              "#7201a8"
             ],
             [
              0.3333333333333333,
              "#9c179e"
             ],
             [
              0.4444444444444444,
              "#bd3786"
             ],
             [
              0.5555555555555556,
              "#d8576b"
             ],
             [
              0.6666666666666666,
              "#ed7953"
             ],
             [
              0.7777777777777778,
              "#fb9f3a"
             ],
             [
              0.8888888888888888,
              "#fdca26"
             ],
             [
              1,
              "#f0f921"
             ]
            ],
            "type": "histogram2dcontour"
           }
          ],
          "mesh3d": [
           {
            "colorbar": {
             "outlinewidth": 0,
             "ticks": ""
            },
            "type": "mesh3d"
           }
          ],
          "parcoords": [
           {
            "line": {
             "colorbar": {
              "outlinewidth": 0,
              "ticks": ""
             }
            },
            "type": "parcoords"
           }
          ],
          "pie": [
           {
            "automargin": true,
            "type": "pie"
           }
          ],
          "scatter": [
           {
            "fillpattern": {
             "fillmode": "overlay",
             "size": 10,
             "solidity": 0.2
            },
            "type": "scatter"
           }
          ],
          "scatter3d": [
           {
            "line": {
             "colorbar": {
              "outlinewidth": 0,
              "ticks": ""
             }
            },
            "marker": {
             "colorbar": {
              "outlinewidth": 0,
              "ticks": ""
             }
            },
            "type": "scatter3d"
           }
          ],
          "scattercarpet": [
           {
            "marker": {
             "colorbar": {
              "outlinewidth": 0,
              "ticks": ""
             }
            },
            "type": "scattercarpet"
           }
          ],
          "scattergeo": [
           {
            "marker": {
             "colorbar": {
              "outlinewidth": 0,
              "ticks": ""
             }
            },
            "type": "scattergeo"
           }
          ],
          "scattergl": [
           {
            "marker": {
             "colorbar": {
              "outlinewidth": 0,
              "ticks": ""
             }
            },
            "type": "scattergl"
           }
          ],
          "scattermap": [
           {
            "marker": {
             "colorbar": {
              "outlinewidth": 0,
              "ticks": ""
             }
            },
            "type": "scattermap"
           }
          ],
          "scattermapbox": [
           {
            "marker": {
             "colorbar": {
              "outlinewidth": 0,
              "ticks": ""
             }
            },
            "type": "scattermapbox"
           }
          ],
          "scatterpolar": [
           {
            "marker": {
             "colorbar": {
              "outlinewidth": 0,
              "ticks": ""
             }
            },
            "type": "scatterpolar"
           }
          ],
          "scatterpolargl": [
           {
            "marker": {
             "colorbar": {
              "outlinewidth": 0,
              "ticks": ""
             }
            },
            "type": "scatterpolargl"
           }
          ],
          "scatterternary": [
           {
            "marker": {
             "colorbar": {
              "outlinewidth": 0,
              "ticks": ""
             }
            },
            "type": "scatterternary"
           }
          ],
          "surface": [
           {
            "colorbar": {
             "outlinewidth": 0,
             "ticks": ""
            },
            "colorscale": [
             [
              0,
              "#0d0887"
             ],
             [
              0.1111111111111111,
              "#46039f"
             ],
             [
              0.2222222222222222,
              "#7201a8"
             ],
             [
              0.3333333333333333,
              "#9c179e"
             ],
             [
              0.4444444444444444,
              "#bd3786"
             ],
             [
              0.5555555555555556,
              "#d8576b"
             ],
             [
              0.6666666666666666,
              "#ed7953"
             ],
             [
              0.7777777777777778,
              "#fb9f3a"
             ],
             [
              0.8888888888888888,
              "#fdca26"
             ],
             [
              1,
              "#f0f921"
             ]
            ],
            "type": "surface"
           }
          ],
          "table": [
           {
            "cells": {
             "fill": {
              "color": "#EBF0F8"
             },
             "line": {
              "color": "white"
             }
            },
            "header": {
             "fill": {
              "color": "#C8D4E3"
             },
             "line": {
              "color": "white"
             }
            },
            "type": "table"
           }
          ]
         },
         "layout": {
          "annotationdefaults": {
           "arrowcolor": "#2a3f5f",
           "arrowhead": 0,
           "arrowwidth": 1
          },
          "autotypenumbers": "strict",
          "coloraxis": {
           "colorbar": {
            "outlinewidth": 0,
            "ticks": ""
           }
          },
          "colorscale": {
           "diverging": [
            [
             0,
             "#8e0152"
            ],
            [
             0.1,
             "#c51b7d"
            ],
            [
             0.2,
             "#de77ae"
            ],
            [
             0.3,
             "#f1b6da"
            ],
            [
             0.4,
             "#fde0ef"
            ],
            [
             0.5,
             "#f7f7f7"
            ],
            [
             0.6,
             "#e6f5d0"
            ],
            [
             0.7,
             "#b8e186"
            ],
            [
             0.8,
             "#7fbc41"
            ],
            [
             0.9,
             "#4d9221"
            ],
            [
             1,
             "#276419"
            ]
           ],
           "sequential": [
            [
             0,
             "#0d0887"
            ],
            [
             0.1111111111111111,
             "#46039f"
            ],
            [
             0.2222222222222222,
             "#7201a8"
            ],
            [
             0.3333333333333333,
             "#9c179e"
            ],
            [
             0.4444444444444444,
             "#bd3786"
            ],
            [
             0.5555555555555556,
             "#d8576b"
            ],
            [
             0.6666666666666666,
             "#ed7953"
            ],
            [
             0.7777777777777778,
             "#fb9f3a"
            ],
            [
             0.8888888888888888,
             "#fdca26"
            ],
            [
             1,
             "#f0f921"
            ]
           ],
           "sequentialminus": [
            [
             0,
             "#0d0887"
            ],
            [
             0.1111111111111111,
             "#46039f"
            ],
            [
             0.2222222222222222,
             "#7201a8"
            ],
            [
             0.3333333333333333,
             "#9c179e"
            ],
            [
             0.4444444444444444,
             "#bd3786"
            ],
            [
             0.5555555555555556,
             "#d8576b"
            ],
            [
             0.6666666666666666,
             "#ed7953"
            ],
            [
             0.7777777777777778,
             "#fb9f3a"
            ],
            [
             0.8888888888888888,
             "#fdca26"
            ],
            [
             1,
             "#f0f921"
            ]
           ]
          },
          "colorway": [
           "#636efa",
           "#EF553B",
           "#00cc96",
           "#ab63fa",
           "#FFA15A",
           "#19d3f3",
           "#FF6692",
           "#B6E880",
           "#FF97FF",
           "#FECB52"
          ],
          "font": {
           "color": "#2a3f5f"
          },
          "geo": {
           "bgcolor": "white",
           "lakecolor": "white",
           "landcolor": "#E5ECF6",
           "showlakes": true,
           "showland": true,
           "subunitcolor": "white"
          },
          "hoverlabel": {
           "align": "left"
          },
          "hovermode": "closest",
          "mapbox": {
           "style": "light"
          },
          "paper_bgcolor": "white",
          "plot_bgcolor": "#E5ECF6",
          "polar": {
           "angularaxis": {
            "gridcolor": "white",
            "linecolor": "white",
            "ticks": ""
           },
           "bgcolor": "#E5ECF6",
           "radialaxis": {
            "gridcolor": "white",
            "linecolor": "white",
            "ticks": ""
           }
          },
          "scene": {
           "xaxis": {
            "backgroundcolor": "#E5ECF6",
            "gridcolor": "white",
            "gridwidth": 2,
            "linecolor": "white",
            "showbackground": true,
            "ticks": "",
            "zerolinecolor": "white"
           },
           "yaxis": {
            "backgroundcolor": "#E5ECF6",
            "gridcolor": "white",
            "gridwidth": 2,
            "linecolor": "white",
            "showbackground": true,
            "ticks": "",
            "zerolinecolor": "white"
           },
           "zaxis": {
            "backgroundcolor": "#E5ECF6",
            "gridcolor": "white",
            "gridwidth": 2,
            "linecolor": "white",
            "showbackground": true,
            "ticks": "",
            "zerolinecolor": "white"
           }
          },
          "shapedefaults": {
           "line": {
            "color": "#2a3f5f"
           }
          },
          "ternary": {
           "aaxis": {
            "gridcolor": "white",
            "linecolor": "white",
            "ticks": ""
           },
           "baxis": {
            "gridcolor": "white",
            "linecolor": "white",
            "ticks": ""
           },
           "bgcolor": "#E5ECF6",
           "caxis": {
            "gridcolor": "white",
            "linecolor": "white",
            "ticks": ""
           }
          },
          "title": {
           "x": 0.05
          },
          "xaxis": {
           "automargin": true,
           "gridcolor": "white",
           "linecolor": "white",
           "ticks": "",
           "title": {
            "standoff": 15
           },
           "zerolinecolor": "white",
           "zerolinewidth": 2
          },
          "yaxis": {
           "automargin": true,
           "gridcolor": "white",
           "linecolor": "white",
           "ticks": "",
           "title": {
            "standoff": 15
           },
           "zerolinecolor": "white",
           "zerolinewidth": 2
          }
         }
        },
        "title": {
         "text": "Average Glucose Level by Stroke Status"
        },
        "xaxis": {
         "anchor": "y",
         "domain": [
          0,
          1
         ],
         "ticktext": [
          "No Stroke",
          "Stroke"
         ],
         "tickvals": [
          0,
          1
         ],
         "title": {
          "text": "Stroke Status"
         }
        },
        "yaxis": {
         "anchor": "x",
         "domain": [
          0,
          1
         ],
         "title": {
          "text": "Average Glucose Level (mg/dL)"
         }
        }
       }
      }
     },
     "metadata": {},
     "output_type": "display_data"
    }
   ],
   "source": [
    "#Average glucose level in Storke/Non-Stroke patients\n",
    "# Group by stroke status and calculate mean glucose level\n",
    "grp_glucose = df.groupby('Stroke')['Glucose'].mean().reset_index()\n",
    "\n",
    "# Create interactive bar chart\n",
    "fig_glucose = px.bar(\n",
    "    grp_glucose,\n",
    "    x='Stroke',\n",
    "    y='Glucose',\n",
    "    title='Average Glucose Level by Stroke Status',\n",
    "    labels={'Stroke': 'Stroke Status', 'Glucose': 'Average Glucose Level (mg/dL)'},\n",
    "    color_discrete_sequence=[\"#250feb\"]\n",
    ")\n",
    "\n",
    "# Customize x-axis and layout\n",
    "fig_glucose.update_xaxes(\n",
    "    ticktext=['No Stroke', 'Stroke'],\n",
    "    tickvals=[0, 1]\n",
    ")\n",
    "fig_glucose.update_layout(height=400)\n",
    "\n",
    "# Display\n",
    "fig_glucose.show()"
   ]
  },
  {
   "cell_type": "markdown",
   "id": "743fc74f",
   "metadata": {},
   "source": [
    "### Reflection\n",
    "The graph indicated that stroke patients had a significantly higher average glucose level of 132 mg/dL compared to 104 mg/dL in non-stroke patients"
   ]
  },
  {
   "cell_type": "code",
   "execution_count": 25,
   "id": "f79c73b4",
   "metadata": {},
   "outputs": [
    {
     "data": {
      "text/plain": [
       "Hypertension\n",
       "False    27.523287\n",
       "True     29.918675\n",
       "Name: BMI, dtype: float64"
      ]
     },
     "execution_count": 25,
     "metadata": {},
     "output_type": "execute_result"
    }
   ],
   "source": [
    "# Average BMI in Storke/Non-Stroke patients\n",
    "grp_bmi = df.groupby('Hypertension')['BMI'].mean()\n",
    "grp_bmi"
   ]
  },
  {
   "cell_type": "markdown",
   "id": "1b958e58",
   "metadata": {},
   "source": [
    "### Reflection\n",
    "The result shows that the mean BMI values were relatively close, with stroke patients averaging 29.9 and non-stroke patients averaging 27.5"
   ]
  }
 ],
 "metadata": {
  "kernelspec": {
   "display_name": "env",
   "language": "python",
   "name": "python3"
  },
  "language_info": {
   "codemirror_mode": {
    "name": "ipython",
    "version": 3
   },
   "file_extension": ".py",
   "mimetype": "text/x-python",
   "name": "python",
   "nbconvert_exporter": "python",
   "pygments_lexer": "ipython3",
   "version": "3.13.0"
  }
 },
 "nbformat": 4,
 "nbformat_minor": 5
}
