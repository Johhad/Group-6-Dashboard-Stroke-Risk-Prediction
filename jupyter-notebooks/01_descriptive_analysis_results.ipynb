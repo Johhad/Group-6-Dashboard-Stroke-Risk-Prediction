{
 "cells": [
  {
   "cell_type": "markdown",
   "id": "9b9a50c7",
   "metadata": {},
   "source": [
    " ## This interactive python is to analyse and test desciprive anlysis before adding the usefula codes in the dashboard"
   ]
  },
  {
   "cell_type": "code",
   "execution_count": 1,
   "id": "66c1d1c0",
   "metadata": {},
   "outputs": [],
   "source": [
    "import pandas as pd\n",
    "import plotly.express as px"
   ]
  },
  {
   "cell_type": "code",
   "execution_count": 5,
   "id": "52862953",
   "metadata": {},
   "outputs": [
    {
     "data": {
      "text/html": [
       "<div>\n",
       "<style scoped>\n",
       "    .dataframe tbody tr th:only-of-type {\n",
       "        vertical-align: middle;\n",
       "    }\n",
       "\n",
       "    .dataframe tbody tr th {\n",
       "        vertical-align: top;\n",
       "    }\n",
       "\n",
       "    .dataframe thead th {\n",
       "        text-align: right;\n",
       "    }\n",
       "</style>\n",
       "<table border=\"1\" class=\"dataframe\">\n",
       "  <thead>\n",
       "    <tr style=\"text-align: right;\">\n",
       "      <th></th>\n",
       "      <th>ID</th>\n",
       "      <th>Sex</th>\n",
       "      <th>Age</th>\n",
       "      <th>Hypertension</th>\n",
       "      <th>Heart Disease</th>\n",
       "      <th>Married</th>\n",
       "      <th>Work Type</th>\n",
       "      <th>Residence Type</th>\n",
       "      <th>Glucose</th>\n",
       "      <th>BMI</th>\n",
       "      <th>Smoking?</th>\n",
       "      <th>Stroke</th>\n",
       "    </tr>\n",
       "  </thead>\n",
       "  <tbody>\n",
       "    <tr>\n",
       "      <th>0</th>\n",
       "      <td>9046</td>\n",
       "      <td>Male</td>\n",
       "      <td>67.0</td>\n",
       "      <td>False</td>\n",
       "      <td>True</td>\n",
       "      <td>True</td>\n",
       "      <td>Private</td>\n",
       "      <td>Urban</td>\n",
       "      <td>228.69</td>\n",
       "      <td>36.6</td>\n",
       "      <td>formerly smoked</td>\n",
       "      <td>True</td>\n",
       "    </tr>\n",
       "    <tr>\n",
       "      <th>1</th>\n",
       "      <td>51676</td>\n",
       "      <td>Female</td>\n",
       "      <td>61.0</td>\n",
       "      <td>False</td>\n",
       "      <td>False</td>\n",
       "      <td>True</td>\n",
       "      <td>Self-employed</td>\n",
       "      <td>Rural</td>\n",
       "      <td>202.21</td>\n",
       "      <td>0.0</td>\n",
       "      <td>never smoked</td>\n",
       "      <td>True</td>\n",
       "    </tr>\n",
       "    <tr>\n",
       "      <th>2</th>\n",
       "      <td>31112</td>\n",
       "      <td>Male</td>\n",
       "      <td>80.0</td>\n",
       "      <td>False</td>\n",
       "      <td>True</td>\n",
       "      <td>True</td>\n",
       "      <td>Private</td>\n",
       "      <td>Rural</td>\n",
       "      <td>105.92</td>\n",
       "      <td>32.5</td>\n",
       "      <td>never smoked</td>\n",
       "      <td>True</td>\n",
       "    </tr>\n",
       "    <tr>\n",
       "      <th>3</th>\n",
       "      <td>60182</td>\n",
       "      <td>Female</td>\n",
       "      <td>49.0</td>\n",
       "      <td>False</td>\n",
       "      <td>False</td>\n",
       "      <td>True</td>\n",
       "      <td>Private</td>\n",
       "      <td>Urban</td>\n",
       "      <td>171.23</td>\n",
       "      <td>34.4</td>\n",
       "      <td>smokes</td>\n",
       "      <td>True</td>\n",
       "    </tr>\n",
       "    <tr>\n",
       "      <th>4</th>\n",
       "      <td>1665</td>\n",
       "      <td>Female</td>\n",
       "      <td>79.0</td>\n",
       "      <td>True</td>\n",
       "      <td>False</td>\n",
       "      <td>True</td>\n",
       "      <td>Self-employed</td>\n",
       "      <td>Rural</td>\n",
       "      <td>174.12</td>\n",
       "      <td>24.0</td>\n",
       "      <td>never smoked</td>\n",
       "      <td>True</td>\n",
       "    </tr>\n",
       "  </tbody>\n",
       "</table>\n",
       "</div>"
      ],
      "text/plain": [
       "      ID     Sex   Age  Hypertension  Heart Disease  Married      Work Type  \\\n",
       "0   9046    Male  67.0         False           True     True        Private   \n",
       "1  51676  Female  61.0         False          False     True  Self-employed   \n",
       "2  31112    Male  80.0         False           True     True        Private   \n",
       "3  60182  Female  49.0         False          False     True        Private   \n",
       "4   1665  Female  79.0          True          False     True  Self-employed   \n",
       "\n",
       "  Residence Type  Glucose   BMI         Smoking?  Stroke  \n",
       "0          Urban   228.69  36.6  formerly smoked    True  \n",
       "1          Rural   202.21   0.0     never smoked    True  \n",
       "2          Rural   105.92  32.5     never smoked    True  \n",
       "3          Urban   171.23  34.4           smokes    True  \n",
       "4          Rural   174.12  24.0     never smoked    True  "
      ]
     },
     "execution_count": 5,
     "metadata": {},
     "output_type": "execute_result"
    }
   ],
   "source": [
    "#Reading the selected dataset\n",
    "df = pd.read_csv(\"processed_data.csv\")\n",
    "df.head()"
   ]
  },
  {
   "cell_type": "code",
   "execution_count": 7,
   "id": "1e0eb206",
   "metadata": {},
   "outputs": [
    {
     "name": "stdout",
     "output_type": "stream",
     "text": [
      "Total patients: 5110\n",
      "Stroke rate: 4.87279843444227\n",
      "Mean age: 43.226614481409\n",
      "Heart disease rate: 5.401174168297456\n"
     ]
    }
   ],
   "source": [
    "total_patients = len(df)\n",
    "stroke_rate = (df['Stroke'] == 1).mean() * 100\n",
    "mean_age = df['Age'].mean()\n",
    "heart_disease_rate = (df['Heart Disease'] == 1).mean() * 100\n",
    "\n",
    "print(f\"Total patients: {total_patients}\\nStroke rate: {stroke_rate}\\nMean age: {mean_age}\\nHeart disease rate: {heart_disease_rate}\")"
   ]
  },
  {
   "cell_type": "code",
   "execution_count": 8,
   "id": "b9094632",
   "metadata": {},
   "outputs": [
    {
     "data": {
      "text/plain": [
       "Sex\n",
       "Female    2994\n",
       "Male      2115\n",
       "Other        1\n",
       "Name: count, dtype: int64"
      ]
     },
     "execution_count": 8,
     "metadata": {},
     "output_type": "execute_result"
    }
   ],
   "source": [
    "#Gender analysis\n",
    "df['Sex'].value_counts(dropna=False)\n"
   ]
  },
  {
   "cell_type": "code",
   "execution_count": 11,
   "id": "090af95a",
   "metadata": {},
   "outputs": [
    {
     "name": "stdout",
     "output_type": "stream",
     "text": [
      "{'Female': 58.6, 'Male': 41.4, 'Other': 0.0}\n",
      "Male %: 41.4\n",
      "Female %: 58.6\n"
     ]
    }
   ],
   "source": [
    "gender_counts = df['Sex'].value_counts(dropna=False)\n",
    "gender_pct = (gender_counts / gender_counts.sum() * 100).round(1).to_dict()\n",
    "male_pct = gender_pct.get('Male', 0.0)\n",
    "female_pct = gender_pct.get('Female', 0.0)\n",
    "print(f\"{gender_pct}\\nMale %: {male_pct}\\nFemale %: {female_pct}\")"
   ]
  },
  {
   "cell_type": "code",
   "execution_count": 12,
   "id": "cb15e72b",
   "metadata": {},
   "outputs": [
    {
     "name": "stdout",
     "output_type": "stream",
     "text": [
      "Age_Mean_Sroke 67.72819277108434\n",
      "Age_Mean_Non-Sroke 41.971544949598844\n"
     ]
    }
   ],
   "source": [
    "age_stroke_mean = df[df['Stroke'] == 1]['Age'].mean()\n",
    "age_nostroke_mean = df[df['Stroke'] == 0]['Age'].mean()\n",
    "print('Age_Mean_Sroke',age_stroke_mean)\n",
    "print('Age_Mean_Non-Sroke',age_nostroke_mean)"
   ]
  },
  {
   "cell_type": "code",
   "execution_count": 13,
   "id": "f21be497",
   "metadata": {},
   "outputs": [
    {
     "data": {
      "text/html": [
       "<div>\n",
       "<style scoped>\n",
       "    .dataframe tbody tr th:only-of-type {\n",
       "        vertical-align: middle;\n",
       "    }\n",
       "\n",
       "    .dataframe tbody tr th {\n",
       "        vertical-align: top;\n",
       "    }\n",
       "\n",
       "    .dataframe thead th {\n",
       "        text-align: right;\n",
       "    }\n",
       "</style>\n",
       "<table border=\"1\" class=\"dataframe\">\n",
       "  <thead>\n",
       "    <tr style=\"text-align: right;\">\n",
       "      <th></th>\n",
       "      <th>Heart Disease</th>\n",
       "      <th>Stroke</th>\n",
       "      <th>count</th>\n",
       "    </tr>\n",
       "  </thead>\n",
       "  <tbody>\n",
       "    <tr>\n",
       "      <th>0</th>\n",
       "      <td>False</td>\n",
       "      <td>False</td>\n",
       "      <td>4632</td>\n",
       "    </tr>\n",
       "    <tr>\n",
       "      <th>1</th>\n",
       "      <td>False</td>\n",
       "      <td>True</td>\n",
       "      <td>202</td>\n",
       "    </tr>\n",
       "    <tr>\n",
       "      <th>2</th>\n",
       "      <td>True</td>\n",
       "      <td>False</td>\n",
       "      <td>229</td>\n",
       "    </tr>\n",
       "    <tr>\n",
       "      <th>3</th>\n",
       "      <td>True</td>\n",
       "      <td>True</td>\n",
       "      <td>47</td>\n",
       "    </tr>\n",
       "  </tbody>\n",
       "</table>\n",
       "</div>"
      ],
      "text/plain": [
       "   Heart Disease  Stroke  count\n",
       "0          False   False   4632\n",
       "1          False    True    202\n",
       "2           True   False    229\n",
       "3           True    True     47"
      ]
     },
     "execution_count": 13,
     "metadata": {},
     "output_type": "execute_result"
    }
   ],
   "source": [
    "#Heart Diseases and Storke\n",
    "grp_hrt_stk = df.groupby(['Heart Disease', 'Stroke']).size().reset_index(name='count')\n",
    "grp_hrt_stk"
   ]
  },
  {
   "cell_type": "code",
   "execution_count": 14,
   "id": "d0abec35",
   "metadata": {},
   "outputs": [
    {
     "data": {
      "text/html": [
       "<div>\n",
       "<style scoped>\n",
       "    .dataframe tbody tr th:only-of-type {\n",
       "        vertical-align: middle;\n",
       "    }\n",
       "\n",
       "    .dataframe tbody tr th {\n",
       "        vertical-align: top;\n",
       "    }\n",
       "\n",
       "    .dataframe thead th {\n",
       "        text-align: right;\n",
       "    }\n",
       "</style>\n",
       "<table border=\"1\" class=\"dataframe\">\n",
       "  <thead>\n",
       "    <tr style=\"text-align: right;\">\n",
       "      <th></th>\n",
       "      <th>Smoking?</th>\n",
       "      <th>Stroke</th>\n",
       "      <th>Stroke Rate (%)</th>\n",
       "    </tr>\n",
       "  </thead>\n",
       "  <tbody>\n",
       "    <tr>\n",
       "      <th>0</th>\n",
       "      <td>Unknown</td>\n",
       "      <td>0.030440</td>\n",
       "      <td>3.044041</td>\n",
       "    </tr>\n",
       "    <tr>\n",
       "      <th>1</th>\n",
       "      <td>formerly smoked</td>\n",
       "      <td>0.079096</td>\n",
       "      <td>7.909605</td>\n",
       "    </tr>\n",
       "    <tr>\n",
       "      <th>2</th>\n",
       "      <td>never smoked</td>\n",
       "      <td>0.047569</td>\n",
       "      <td>4.756871</td>\n",
       "    </tr>\n",
       "    <tr>\n",
       "      <th>3</th>\n",
       "      <td>smokes</td>\n",
       "      <td>0.053232</td>\n",
       "      <td>5.323194</td>\n",
       "    </tr>\n",
       "  </tbody>\n",
       "</table>\n",
       "</div>"
      ],
      "text/plain": [
       "          Smoking?    Stroke  Stroke Rate (%)\n",
       "0          Unknown  0.030440         3.044041\n",
       "1  formerly smoked  0.079096         7.909605\n",
       "2     never smoked  0.047569         4.756871\n",
       "3           smokes  0.053232         5.323194"
      ]
     },
     "execution_count": 14,
     "metadata": {},
     "output_type": "execute_result"
    }
   ],
   "source": [
    "#Smoking and Storke\n",
    "grp_smoke = df.groupby('Smoking?')['Stroke'].mean().reset_index()\n",
    "grp_smoke['Stroke Rate (%)'] = grp_smoke['Stroke'] * 100\n",
    "grp_smoke"
   ]
  },
  {
   "cell_type": "code",
   "execution_count": null,
   "id": "0b961704",
   "metadata": {},
   "outputs": [
    {
     "data": {
      "text/html": [
       "<div>\n",
       "<style scoped>\n",
       "    .dataframe tbody tr th:only-of-type {\n",
       "        vertical-align: middle;\n",
       "    }\n",
       "\n",
       "    .dataframe tbody tr th {\n",
       "        vertical-align: top;\n",
       "    }\n",
       "\n",
       "    .dataframe thead th {\n",
       "        text-align: right;\n",
       "    }\n",
       "</style>\n",
       "<table border=\"1\" class=\"dataframe\">\n",
       "  <thead>\n",
       "    <tr style=\"text-align: right;\">\n",
       "      <th></th>\n",
       "      <th>Work Type</th>\n",
       "      <th>Residence Type</th>\n",
       "      <th>Heart Disease</th>\n",
       "      <th>Heart Disease Rate (%)</th>\n",
       "    </tr>\n",
       "  </thead>\n",
       "  <tbody>\n",
       "    <tr>\n",
       "      <th>0</th>\n",
       "      <td>Govt_job</td>\n",
       "      <td>Rural</td>\n",
       "      <td>0.051282</td>\n",
       "      <td>5.128205</td>\n",
       "    </tr>\n",
       "    <tr>\n",
       "      <th>1</th>\n",
       "      <td>Govt_job</td>\n",
       "      <td>Urban</td>\n",
       "      <td>0.057971</td>\n",
       "      <td>5.797101</td>\n",
       "    </tr>\n",
       "    <tr>\n",
       "      <th>2</th>\n",
       "      <td>Never_worked</td>\n",
       "      <td>Rural</td>\n",
       "      <td>0.000000</td>\n",
       "      <td>0.000000</td>\n",
       "    </tr>\n",
       "    <tr>\n",
       "      <th>3</th>\n",
       "      <td>Never_worked</td>\n",
       "      <td>Urban</td>\n",
       "      <td>0.000000</td>\n",
       "      <td>0.000000</td>\n",
       "    </tr>\n",
       "    <tr>\n",
       "      <th>4</th>\n",
       "      <td>Private</td>\n",
       "      <td>Rural</td>\n",
       "      <td>0.055404</td>\n",
       "      <td>5.540356</td>\n",
       "    </tr>\n",
       "    <tr>\n",
       "      <th>5</th>\n",
       "      <td>Private</td>\n",
       "      <td>Urban</td>\n",
       "      <td>0.052632</td>\n",
       "      <td>5.263158</td>\n",
       "    </tr>\n",
       "    <tr>\n",
       "      <th>6</th>\n",
       "      <td>Self-employed</td>\n",
       "      <td>Rural</td>\n",
       "      <td>0.094148</td>\n",
       "      <td>9.414758</td>\n",
       "    </tr>\n",
       "    <tr>\n",
       "      <th>7</th>\n",
       "      <td>Self-employed</td>\n",
       "      <td>Urban</td>\n",
       "      <td>0.103286</td>\n",
       "      <td>10.328638</td>\n",
       "    </tr>\n",
       "    <tr>\n",
       "      <th>8</th>\n",
       "      <td>children</td>\n",
       "      <td>Rural</td>\n",
       "      <td>0.000000</td>\n",
       "      <td>0.000000</td>\n",
       "    </tr>\n",
       "    <tr>\n",
       "      <th>9</th>\n",
       "      <td>children</td>\n",
       "      <td>Urban</td>\n",
       "      <td>0.002882</td>\n",
       "      <td>0.288184</td>\n",
       "    </tr>\n",
       "  </tbody>\n",
       "</table>\n",
       "</div>"
      ],
      "text/plain": [
       "       Work Type Residence Type  Heart Disease  Heart Disease Rate (%)\n",
       "0       Govt_job          Rural       0.051282                5.128205\n",
       "1       Govt_job          Urban       0.057971                5.797101\n",
       "2   Never_worked          Rural       0.000000                0.000000\n",
       "3   Never_worked          Urban       0.000000                0.000000\n",
       "4        Private          Rural       0.055404                5.540356\n",
       "5        Private          Urban       0.052632                5.263158\n",
       "6  Self-employed          Rural       0.094148                9.414758\n",
       "7  Self-employed          Urban       0.103286               10.328638\n",
       "8       children          Rural       0.000000                0.000000\n",
       "9       children          Urban       0.002882                0.288184"
      ]
     },
     "execution_count": 15,
     "metadata": {},
     "output_type": "execute_result"
    }
   ],
   "source": [
    "#Work type, residence, heart disease\n",
    "\n",
    "grp_work = df.groupby(['Work Type', 'Residence Type'])['Heart Disease'].mean().reset_index()\n",
    "grp_work['Heart Disease Rate (%)'] = grp_work['Heart Disease'] * 100\n",
    "grp_work"
   ]
  },
  {
   "cell_type": "code",
   "execution_count": 16,
   "id": "45bffdf3",
   "metadata": {},
   "outputs": [
    {
     "data": {
      "text/html": [
       "<div>\n",
       "<style scoped>\n",
       "    .dataframe tbody tr th:only-of-type {\n",
       "        vertical-align: middle;\n",
       "    }\n",
       "\n",
       "    .dataframe tbody tr th {\n",
       "        vertical-align: top;\n",
       "    }\n",
       "\n",
       "    .dataframe thead th {\n",
       "        text-align: right;\n",
       "    }\n",
       "</style>\n",
       "<table border=\"1\" class=\"dataframe\">\n",
       "  <thead>\n",
       "    <tr style=\"text-align: right;\">\n",
       "      <th></th>\n",
       "      <th>Stroke</th>\n",
       "      <th>Glucose</th>\n",
       "    </tr>\n",
       "  </thead>\n",
       "  <tbody>\n",
       "    <tr>\n",
       "      <th>0</th>\n",
       "      <td>False</td>\n",
       "      <td>104.795513</td>\n",
       "    </tr>\n",
       "    <tr>\n",
       "      <th>1</th>\n",
       "      <td>True</td>\n",
       "      <td>132.544739</td>\n",
       "    </tr>\n",
       "  </tbody>\n",
       "</table>\n",
       "</div>"
      ],
      "text/plain": [
       "   Stroke     Glucose\n",
       "0   False  104.795513\n",
       "1    True  132.544739"
      ]
     },
     "execution_count": 16,
     "metadata": {},
     "output_type": "execute_result"
    }
   ],
   "source": [
    "#Average glucose level in Storke/Non-Stroke patients\n",
    "grp_glucose = df.groupby('Stroke')['Glucose'].mean().reset_index()\n",
    "grp_glucose"
   ]
  },
  {
   "cell_type": "code",
   "execution_count": 17,
   "id": "f79c73b4",
   "metadata": {},
   "outputs": [
    {
     "data": {
      "text/plain": [
       "Hypertension\n",
       "False    27.523287\n",
       "True     29.918675\n",
       "Name: BMI, dtype: float64"
      ]
     },
     "execution_count": 17,
     "metadata": {},
     "output_type": "execute_result"
    }
   ],
   "source": [
    "# Average BMI in Storke/Non-Stroke patients\n",
    "grp_bmi = df.groupby('Hypertension')['BMI'].mean()\n",
    "grp_bmi"
   ]
  }
 ],
 "metadata": {
  "kernelspec": {
   "display_name": "env",
   "language": "python",
   "name": "python3"
  },
  "language_info": {
   "codemirror_mode": {
    "name": "ipython",
    "version": 3
   },
   "file_extension": ".py",
   "mimetype": "text/x-python",
   "name": "python",
   "nbconvert_exporter": "python",
   "pygments_lexer": "ipython3",
   "version": "3.13.0"
  }
 },
 "nbformat": 4,
 "nbformat_minor": 5
}
